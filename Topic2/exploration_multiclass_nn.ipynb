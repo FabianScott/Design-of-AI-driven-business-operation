{
 "cells": [
  {
   "cell_type": "code",
   "execution_count": 1,
   "id": "a8d564f7",
   "metadata": {},
   "outputs": [
    {
     "name": "stdout",
     "output_type": "stream",
     "text": [
      "Changed to c:\\Users\\toell\\Documents\\GitHub\\Design-of-AI-driven-business-operation\n"
     ]
    }
   ],
   "source": [
    "import os\n",
    "import sys\n",
    "import pandas as pd\n",
    "import numpy as np\n",
    "import matplotlib.pyplot as plt\n",
    "from sklearn.ensemble import RandomForestClassifier\n",
    "from sklearn.metrics import classification_report, confusion_matrix\n",
    "from sklearn.preprocessing import MinMaxScaler\n",
    "from sklearn.pipeline import make_pipeline\n",
    "\n",
    "sys.path.append(os.path.dirname(os.path.abspath(os.getcwd())) + \"/..\")\n",
    "if os.getcwd().endswith(\"Topic2\"):\n",
    "    os.chdir(\"..\")\n",
    "    print(f\"Changed to {os.getcwd()}\")\n",
    "\n",
    "from codebase import(\n",
    "    load_excel, \n",
    "    load_odin_as_ml_dataset, \n",
    "    plot_confusion_matrix, \n",
    "    make_ml_dataset, \n",
    "    run_binary_regression, \n",
    "    transport_modes, \n",
    "    trip_motives, \n",
    "    province_codes, \n",
    "    transport_mode_col, \n",
    "    IGNORE_RULES, \n",
    "    apply_ignore_rules,\n",
    "    number_of_sub_trips_col,\n",
    "    id_col\n",
    "    )\n",
    "run_ML = False\n",
    "%load_ext autoreload\n",
    "%autoreload 2"
   ]
  },
  {
   "cell_type": "code",
   "execution_count": 2,
   "id": "65630f1c",
   "metadata": {},
   "outputs": [
    {
     "name": "stdout",
     "output_type": "stream",
     "text": [
      "Loaded file from CSV\n",
      "Loaded file from CSV\n",
      "Loaded file from CSV\n",
      "Loaded file from CSV\n",
      "Loaded file from CSV\n"
     ]
    }
   ],
   "source": [
    "years = [2019, 2020, 2021, 2022, 2023]\n",
    "dfs = []\n",
    "for year in years:\n",
    "    odin_excel_path = os.path.join(os.getcwd(), \"data\", \"OdiN 2019-2023\", f\"OdiN {year}\", f\"ODiN{year}_Databestand.csv\")\n",
    "    if year in [2019, 2020]:\n",
    "        odin_excel_path = odin_excel_path.replace(\"Databestand\", \"Databestand_v2.0\")\n",
    "    df = load_excel(odin_excel_path)\n",
    "    # df = apply_ignore_rules(df, IGNORE_RULES)   # <<–– new line\n",
    "\n",
    "    dfs.append(df[df[number_of_sub_trips_col] == 1])  # Filter for single sub-trips\n",
    "\n",
    "df_all = pd.concat(dfs, ignore_index=True, join=\"inner\")\n",
    "# Convert 'ActDuur' to numeric, handling errors by coercing NaN to 0\n",
    "df_all['ActDuur'] = pd.to_numeric(df_all['ActDuur'], errors='coerce').fillna(0)"
   ]
  },
  {
   "cell_type": "code",
   "execution_count": 3,
   "id": "a2024519",
   "metadata": {},
   "outputs": [],
   "source": [
    "df_all = apply_ignore_rules(df_all, IGNORE_RULES)  # Apply ignore rules after filtering"
   ]
  },
  {
   "cell_type": "markdown",
   "id": "3f1de2be",
   "metadata": {},
   "source": [
    "Now a classifier that classifies what mode of transport was used"
   ]
  },
  {
   "cell_type": "code",
   "execution_count": 4,
   "id": "20bc75ec",
   "metadata": {},
   "outputs": [],
   "source": [
    "from codebase import (run_multiclass_classification,\n",
    "                      distance_col, \n",
    "                      origin_col, \n",
    "                      province_codes, \n",
    "                      level_mapping_suffix, \n",
    "                      age_col, \n",
    "                      transport_mode_col, \n",
    "                      motive_col, \n",
    "                      urbanness_col,\n",
    "                      categorical_cols)\n",
    "\n",
    "\n",
    "df_multiclass = df_all[df_all[transport_mode_col] != df_all[transport_mode_col].max()]"
   ]
  },
  {
   "cell_type": "code",
   "execution_count": 5,
   "id": "43461ee2",
   "metadata": {},
   "outputs": [],
   "source": [
    "from codebase import urbanness_col, motive_col\n",
    "\n",
    "age_range = (0, np.inf)\n",
    "vehicles_to_include = [1, 7, 8, 9, ]\n",
    "\n",
    "df_less_vehicles = df_multiclass[df_multiclass[transport_mode_col].isin(vehicles_to_include)]\n",
    "df_less_vehicles: pd.DataFrame = df_less_vehicles[(df_less_vehicles[age_col] < age_range[1]) & (df_less_vehicles[age_col] > age_range[0])]"
   ]
  },
  {
   "cell_type": "code",
   "execution_count": 6,
   "id": "24d73d9a",
   "metadata": {},
   "outputs": [],
   "source": [
    "import torch\n",
    "import torch.nn as nn\n",
    "import torch.optim as optim\n",
    "from skorch import NeuralNetClassifier\n",
    "\n",
    "\n",
    "class SktorchNN(nn.Module):\n",
    "    def __init__(self, input_dim, output_dim, hidden_layers=[64], dtype=torch.float64):\n",
    "        super(SktorchNN, self).__init__()\n",
    "        layers = []\n",
    "        for size in hidden_layers:\n",
    "            layers.append(nn.Linear(input_dim, size, dtype=dtype))\n",
    "            layers.append(nn.ReLU())\n",
    "            input_dim = size\n",
    "        layers.append(nn.Linear(size, output_dim, dtype=dtype))\n",
    "        self.network = nn.Sequential(*layers)\n",
    "\n",
    "    def forward(self, x):\n",
    "        return self.network(x)"
   ]
  },
  {
   "cell_type": "code",
   "execution_count": 7,
   "id": "4bf8f25d",
   "metadata": {},
   "outputs": [
    {
     "data": {
      "text/plain": [
       "OP            False\n",
       "OPID          False\n",
       "Steekproef    False\n",
       "Mode          False\n",
       "HHPers        False\n",
       "              ...  \n",
       "RCorrSnelh    False\n",
       "RVliegVer     False\n",
       "FactorH       False\n",
       "FactorP       False\n",
       "FactorV       False\n",
       "Length: 202, dtype: bool"
      ]
     },
     "execution_count": 7,
     "metadata": {},
     "output_type": "execute_result"
    }
   ],
   "source": [
    "df_all.isna().any() == True"
   ]
  },
  {
   "cell_type": "code",
   "execution_count": 8,
   "id": "a837278f",
   "metadata": {},
   "outputs": [
    {
     "data": {
      "text/plain": [
       "SAantAdr    778189\n",
       "SDezPlts    778189\n",
       "SPlaats1    778189\n",
       "SPlaats2    778189\n",
       "SPlaats3    778189\n",
       "SPlaats4    778189\n",
       "SPlaats5    778189\n",
       "AfstS       778189\n",
       "AfstSBL     778189\n",
       "SVvm1       778189\n",
       "SVvm2       778189\n",
       "SVvm3       778189\n",
       "SVvm4       778189\n",
       "SBegUur     778189\n",
       "SBegMin     778189\n",
       "SEindUur    778189\n",
       "SEindMin    778189\n",
       "dtype: int64"
      ]
     },
     "execution_count": 8,
     "metadata": {},
     "output_type": "execute_result"
    }
   ],
   "source": [
    "df_all.loc[:, df_all.isna().any() == True].isna().sum()"
   ]
  },
  {
   "cell_type": "code",
   "execution_count": 9,
   "id": "4cc68334",
   "metadata": {},
   "outputs": [
    {
     "data": {
      "text/plain": [
       "Index(['SAantAdr', 'SDezPlts', 'SPlaats1', 'SPlaats2', 'SPlaats3', 'SPlaats4',\n",
       "       'SPlaats5', 'AfstS', 'AfstSBL', 'SVvm1', 'SVvm2', 'SVvm3', 'SVvm4',\n",
       "       'SBegUur', 'SBegMin', 'SEindUur', 'SEindMin'],\n",
       "      dtype='object')"
      ]
     },
     "execution_count": 9,
     "metadata": {},
     "output_type": "execute_result"
    }
   ],
   "source": [
    "df_all.columns[df_all.isna().any()]"
   ]
  },
  {
   "cell_type": "code",
   "execution_count": 10,
   "id": "2d251feb",
   "metadata": {},
   "outputs": [
    {
     "data": {
      "text/html": [
       "<div>\n",
       "<style scoped>\n",
       "    .dataframe tbody tr th:only-of-type {\n",
       "        vertical-align: middle;\n",
       "    }\n",
       "\n",
       "    .dataframe tbody tr th {\n",
       "        vertical-align: top;\n",
       "    }\n",
       "\n",
       "    .dataframe thead th {\n",
       "        text-align: right;\n",
       "    }\n",
       "</style>\n",
       "<table border=\"1\" class=\"dataframe\">\n",
       "  <thead>\n",
       "    <tr style=\"text-align: right;\">\n",
       "      <th></th>\n",
       "      <th>OP</th>\n",
       "      <th>OPID</th>\n",
       "      <th>Steekproef</th>\n",
       "      <th>Mode</th>\n",
       "      <th>HHPers</th>\n",
       "      <th>HHSam</th>\n",
       "      <th>HHPlOP</th>\n",
       "      <th>HHLft1</th>\n",
       "      <th>HHLft2</th>\n",
       "      <th>HHLft3</th>\n",
       "      <th>...</th>\n",
       "      <th>RReisduur</th>\n",
       "      <th>RReisduurBL</th>\n",
       "      <th>RVertStat</th>\n",
       "      <th>RAankStat</th>\n",
       "      <th>RTSamen</th>\n",
       "      <th>RCorrSnelh</th>\n",
       "      <th>RVliegVer</th>\n",
       "      <th>FactorH</th>\n",
       "      <th>FactorP</th>\n",
       "      <th>FactorV</th>\n",
       "    </tr>\n",
       "  </thead>\n",
       "  <tbody>\n",
       "  </tbody>\n",
       "</table>\n",
       "<p>0 rows × 202 columns</p>\n",
       "</div>"
      ],
      "text/plain": [
       "Empty DataFrame\n",
       "Columns: [OP, OPID, Steekproef, Mode, HHPers, HHSam, HHPlOP, HHLft1, HHLft2, HHLft3, HHLft4, WoPC, WoGem, Sted, GemGr, Prov, Corop, BuurtAdam, MRA, MRDH, Geslacht, Leeftijd, KLeeft, BetWerk, OnbBez, MaatsPart, Opleiding, HHBestInkG, HHGestInkG, HHLaagInk, HHSocInk, HHWelvG, HHRijbewijsAu, HHRijbewijsMo, HHRijbewijsBr, OPRijbewijsAu, OPRijbewijsMo, OPRijbewijsBr, HHAuto, HHAutoL, OPAuto, BrandstofPa1, XBrandstofPa1, BrandstofEPa1, BouwjaarPa1, KBouwjaarPa1, KGewichtPa1, TenaamPa1, BrandstofPa2, XBrandstofPa2, BrandstofEPa2, BouwjaarPa2, KBouwjaarPa2, KGewichtPa2, TenaamPa2, BrandstofPaL, XBrandstofPaL, BrandstofEPaL, BouwjaarPaL, KBouwjaarPaL, KGewichtPaL, HHMotor, OPMotor, HHBrom, OPBrom, HHSnor, OPSnor, HHEFiets, HHBezitVm, OPBezitVm, FqNEFiets, FqEFiets, FqBTM, FqTrein, FqAutoB, FqAutoP, FqBrSnor, OVStKaart, Jaar, Maand, Week, Dag, Weekdag, Feestdag, Weggeweest, RedenNW, RedenNWZ, RedenNWW, RedenNWB, AantVpl, AantOVVpl, AantSVpl, EFiets, AutoEig, AutoHhL, AutoLWg, AutoLPl, AutoBed, AutoDOrg, AutoDPart, ...]\n",
       "Index: []\n",
       "\n",
       "[0 rows x 202 columns]"
      ]
     },
     "execution_count": 10,
     "metadata": {},
     "output_type": "execute_result"
    }
   ],
   "source": [
    "df_all[df_all['RTSamen'].isna()]"
   ]
  },
  {
   "cell_type": "code",
   "execution_count": null,
   "id": "8471bc04",
   "metadata": {},
   "outputs": [
    {
     "name": "stdout",
     "output_type": "stream",
     "text": [
      "Using device: cuda\n",
      "Common labels: [0 1 2 3]\n",
      "  epoch    train_loss    valid_acc    valid_loss    cp      dur\n",
      "-------  ------------  -----------  ------------  ----  -------\n",
      "      1        \u001b[36m0.5609\u001b[0m       \u001b[32m0.7862\u001b[0m        \u001b[35m0.5219\u001b[0m     +  41.8051\n",
      "      2        \u001b[36m0.5039\u001b[0m       \u001b[32m0.7954\u001b[0m        \u001b[35m0.5041\u001b[0m     +  48.4606\n",
      "      3        \u001b[36m0.4906\u001b[0m       \u001b[32m0.7975\u001b[0m        \u001b[35m0.4961\u001b[0m     +  48.0323\n",
      "      4        \u001b[36m0.4825\u001b[0m       \u001b[32m0.7988\u001b[0m        \u001b[35m0.4940\u001b[0m     +  45.8410\n",
      "      5        \u001b[36m0.4769\u001b[0m       \u001b[32m0.8000\u001b[0m        \u001b[35m0.4917\u001b[0m     +  43.2099\n",
      "                      precision    recall  f1-score   support\n",
      "\n",
      "       Passenger car       0.85      0.88      0.86     70523\n",
      "    Electric bicycle       0.74      0.49      0.59     10541\n",
      "Non-electric bicycle       0.69      0.78      0.73     33669\n",
      "             On foot       0.82      0.75      0.78     34802\n",
      "\n",
      "            accuracy                           0.80    149535\n",
      "           macro avg       0.78      0.72      0.74    149535\n",
      "        weighted avg       0.80      0.80      0.80    149535\n",
      "\n"
     ]
    },
    {
     "data": {
      "image/png": "[encoded data removed]",
      "text/plain": [
       "<Figure size 400x400 with 2 Axes>"
      ]
     },
     "metadata": {},
     "output_type": "display_data"
    }
   ],
   "source": [
    "from codebase import run_multiclass_classification\n",
    "from skorch.callbacks import Checkpoint\n",
    "\n",
    "save_path = \"neural_net_checkpoints\"\n",
    "os.makedirs(save_path, exist_ok=True)\n",
    "checkpoint = Checkpoint(monitor='valid_loss_best', f_params='best_model.pt')\n",
    "early_stopping = Checkpoint(monitor='valid_loss_best', f_patience=2, f_params='best_model.pt')\n",
    "device='cuda' if torch.cuda.is_available() else 'cpu'\n",
    "print(f\"Using device: {device}\")\n",
    "\n",
    "lr = 0.001\n",
    "input_dim=210\n",
    "output_dim=len(vehicles_to_include)\n",
    "hidden_layers=[500, 200, 100]\n",
    "max_epochs=5\n",
    "\n",
    "net = NeuralNetClassifier(\n",
    "    SktorchNN(input_dim=input_dim, output_dim=output_dim, hidden_layers=hidden_layers),\n",
    "    max_epochs=max_epochs,\n",
    "    lr=lr,\n",
    "    batch_size=32,\n",
    "    optimizer=optim.Adam,\n",
    "    criterion=nn.CrossEntropyLoss(),\n",
    "    verbose=1,\n",
    "    device=device,\n",
    "    callbacks=[checkpoint, early_stopping],\n",
    ")\n",
    "pipeline_less, (X_train_less, X_test, y_train, y_test), accuracy = run_multiclass_classification(\n",
    "        df_less_vehicles,\n",
    "        test_size=0.2,\n",
    "        model=net,\n",
    "        categorical_features=categorical_cols,\n",
    "        plot=True,\n",
    "        savename=f\"graphics/classification_results/multiclass/neural_net/less_vehicles\",\n",
    "        plot_title=f\"Confusion Matrix for Neural Network on NL\",\n",
    "        y_translation={val: order for order, val in enumerate(vehicles_to_include)},\n",
    "    )\n",
    "\n",
    "accuracy = net.score(X_test, y_test)\n",
    "print(f\"Accuracy of the neural network model: {accuracy:.4f}\")"
   ]
  }
 ],
 "metadata": {
  "kernelspec": {
   "display_name": ".venv",
   "language": "python",
   "name": "python3"
  },
  "language_info": {
   "codemirror_mode": {
    "name": "ipython",
    "version": 3
   },
   "file_extension": ".py",
   "mimetype": "text/x-python",
   "name": "python",
   "nbconvert_exporter": "python",
   "pygments_lexer": "ipython3",
   "version": "3.11.0"
  }
 },
 "nbformat": 4,
 "nbformat_minor": 5
}
