{
 "cells": [
  {
   "cell_type": "code",
   "execution_count": 1,
   "id": "a8d564f7",
   "metadata": {},
   "outputs": [
    {
     "name": "stdout",
     "output_type": "stream",
     "text": [
      "Changed to c:\\Users\\flori\\OneDrive - TU Eindhoven\\Master TUe 2024-2025\\Design-of-AI-driven-business-operation\n"
     ]
    }
   ],
   "source": [
    "import os\n",
    "import sys\n",
    "import torch\n",
    "import pandas as pd\n",
    "import numpy as np\n",
    "import matplotlib.pyplot as plt\n",
    "from skorch import NeuralNetClassifier\n",
    "from skorch.callbacks import Checkpoint, EarlyStopping\n",
    "\n",
    "import torch.nn as nn\n",
    "import torch.optim as optim\n",
    "sys.path.append(os.path.dirname(os.path.abspath(os.getcwd())) + \"/..\")\n",
    "if os.getcwd().endswith(\"Topic2\"):\n",
    "    os.chdir(\"..\")\n",
    "    print(f\"Changed to {os.getcwd()}\")\n",
    "\n",
    "from codebase import(\n",
    "    IGNORE_RULES, \n",
    "    apply_ignore_rules,\n",
    "    SktorchNN,\n",
    "    age_col,\n",
    "    transport_mode_col,\n",
    "    categorical_cols,\n",
    "    load_features_per_num,\n",
    "    save_features_per_num,\n",
    "    id_col,\n",
    "    run_multiclass_classification\n",
    "    )\n",
    "from codebase.data.load_odin import load_odin\n",
    "run_ML = False\n",
    "%load_ext autoreload\n",
    "%autoreload 2"
   ]
  },
  {
   "cell_type": "code",
   "execution_count": null,
   "id": "afc41bd6",
   "metadata": {},
   "outputs": [
    {
     "name": "stdout",
     "output_type": "stream",
     "text": [
      "[INFO] Loading ODiN data for years: [2019, 2020, 2021, 2022, 2023]\n",
      "[INFO] Reading file: data\\OdiN 2019-2023\\OdiN 2019\\ODiN2019_Databestand_v2.0.csv\n",
      "Loaded file from CSV\n",
      "[INFO] Loaded 179,091 rows for 2019\n",
      "[INFO] Reading file: data\\OdiN 2019-2023\\OdiN 2020\\ODiN2020_Databestand_v2.0.csv\n",
      "Loaded file from CSV\n",
      "[INFO] Loaded 176,729 rows for 2020\n",
      "[INFO] Reading file: data\\OdiN 2019-2023\\OdiN 2021\\ODiN2021_Databestand.csv\n",
      "Loaded file from CSV\n",
      "[INFO] Loaded 196,768 rows for 2021\n",
      "[INFO] Reading file: data\\OdiN 2019-2023\\OdiN 2022\\ODiN2022_Databestand.csv\n"
     ]
    }
   ],
   "source": [
    "odin_df = load_odin(dropna=True)"
   ]
  },
  {
   "cell_type": "markdown",
   "id": "3f1de2be",
   "metadata": {},
   "source": [
    "Now a classifier that classifies what mode of transport was used"
   ]
  },
  {
   "cell_type": "code",
   "execution_count": null,
   "id": "43461ee2",
   "metadata": {},
   "outputs": [],
   "source": [
    "age_range = (0, np.inf)\n",
    "vehicles_to_include = [1, 7, 8, 9, ]\n",
    "device = \"cuda\" if torch.cuda.is_available() else \"cpu\"\n",
    "print(f\"Using device: {device}\")\n",
    "df_less_vehicles = odin_df[odin_df[transport_mode_col].isin(vehicles_to_include)]\n",
    "df_less_vehicles: pd.DataFrame = df_less_vehicles[(df_less_vehicles[age_col] < age_range[1]) & (df_less_vehicles[age_col] > age_range[0])]"
   ]
  },
  {
   "cell_type": "code",
   "execution_count": null,
   "id": "cb322f38",
   "metadata": {},
   "outputs": [],
   "source": [
    "feature_savename = \"data/features_per_num.pkl\"\n",
    "accs_savename = \"data/accuracies_per_num_nn.pkl\"\n",
    "\n",
    "features_per_num, random_forest_accs = load_features_per_num()\n",
    "y_translation = {val: order for order, val in enumerate(vehicles_to_include)}\n",
    "\n",
    "lr = 0.001\n",
    "output_dim=len(vehicles_to_include)\n",
    "hidden_layers=[500, 200, 100]\n",
    "max_epochs=5\n",
    "accs = dict()\n",
    "save_path = \"neural_net_checkpoints\"\n",
    "\n",
    "for num, features in features_per_num.items():\n",
    "\n",
    "    cols_to_include = features.index.to_list()\n",
    "    # Align the columns with the DataFrame to make a correct count\n",
    "    cols_to_include = [col for col in cols_to_include if col in df_less_vehicles.columns]\n",
    "\n",
    "    checkpoint = Checkpoint(monitor='valid_loss_best', f_params=save_path + f'/best_model_{len(cols_to_include)}.pt')\n",
    "    early_stopping = Checkpoint(monitor='valid_loss_best', f_patience=2, f_params=save_path + f'/best_model_{len(cols_to_include)}.pt')\n",
    "\n",
    "    net = NeuralNetClassifier(\n",
    "        SktorchNN(output_dim=output_dim, hidden_layers=hidden_layers),\n",
    "        max_epochs=max_epochs,\n",
    "        lr=lr,\n",
    "        batch_size=32,\n",
    "        optimizer=optim.Adam,\n",
    "        criterion=nn.CrossEntropyLoss(),\n",
    "        verbose=1,\n",
    "        device=device,\n",
    "        callbacks=[checkpoint, early_stopping],\n",
    "    )\n",
    "\n",
    "    pipeline_less, (X_train_less, X_test, y_test, y_pred), accuracy = run_multiclass_classification(\n",
    "            df_less_vehicles,\n",
    "            test_size=0.2,\n",
    "            model=net,\n",
    "            drop_cols=[col for col in df_less_vehicles.columns if col not in cols_to_include + [id_col, transport_mode_col]],\n",
    "            categorical_features=categorical_cols,\n",
    "            plot=True,\n",
    "            savename=f\"graphics/classification_results/multiclass/neural_net/less_vehicles_{len(cols_to_include)}\",\n",
    "            plot_title=f\"Confusion Matrix for Neural Network on NL with {len(cols_to_include)} features\",\n",
    "            y_translation=y_translation,\n",
    "        )\n",
    "\n",
    "    print(f\"Accuracy of the neural network model with {len(cols_to_include)} features: {accuracy:.4f}\")\n",
    "    accs[len(cols_to_include)] = accuracy\n",
    "# Save the accuracies to a file\n",
    "save_features_per_num(accuracies=accs, accs_savename=accs_savename)"
   ]
  },
  {
   "cell_type": "code",
   "execution_count": null,
   "id": "952fffc0",
   "metadata": {},
   "outputs": [],
   "source": [
    "# Save the accuracies to a file\n",
    "save_features_per_num(accuracies=accs, accs_savename=accs_savename)"
   ]
  },
  {
   "cell_type": "code",
   "execution_count": null,
   "id": "9502d254",
   "metadata": {},
   "outputs": [],
   "source": [
    "_, random_forest_accs = load_features_per_num()\n",
    "# Did not save these correctly, takes 40 mins to run, so hardcoded for now\n",
    "x_ticks_nn = [61, 61, 40, 22, 14, 10, 8, 5, 4, 3, 2, 1]\n",
    "# plot the accuracies\n",
    "plt.figure(figsize=(18, 6))\n",
    "plt.plot(x_ticks_nn, list(accs.values()), marker='o', label='Neural Network Accuracy', color='blue')\n",
    "plt.plot(list(accs.keys()), list(random_forest_accs), marker='x', label='Random Forest Accuracy', color='orange')\n",
    "plt.title('Neural Network Accuracy vs Number of Features')\n",
    "plt.xlabel('Number of Features')\n",
    "plt.ylabel('Accuracy')\n",
    "plt.grid()\n",
    "plt.ylim(0, 1)\n",
    "plt.xscale('log')\n",
    "\n",
    "all_ticks = sorted(set(list(accs.keys()) + x_ticks_nn))\n",
    "\n",
    "plt.xticks(all_ticks, [str(x) for x in all_ticks], )\n",
    "plt.legend()\n",
    "plt.savefig(\"graphics/classification_results/multiclass/neural_net/accuracy_vs_num_features.png\", bbox_inches='tight', dpi=300)\n",
    "plt.show()"
   ]
  }
 ],
 "metadata": {
  "kernelspec": {
   "display_name": ".venv",
   "language": "python",
   "name": "python3"
  },
  "language_info": {
   "codemirror_mode": {
    "name": "ipython",
    "version": 3
   },
   "file_extension": ".py",
   "mimetype": "text/x-python",
   "name": "python",
   "nbconvert_exporter": "python",
   "pygments_lexer": "ipython3",
   "version": "3.11.0"
  }
 },
 "nbformat": 4,
 "nbformat_minor": 5
}
