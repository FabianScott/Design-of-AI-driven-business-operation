{
 "cells": [
  {
   "cell_type": "code",
   "execution_count": null,
   "id": "initial_id",
   "metadata": {
    "ExecuteTime": {
     "end_time": "2025-04-30T08:21:51.846818Z",
     "start_time": "2025-04-30T08:21:40.074845Z"
    },
    "collapsed": true
   },
   "outputs": [
    {
     "name": "stdout",
     "output_type": "stream",
     "text": [
      "Changed to c:\\Users\\toell\\Documents\\GitHub\\Design-of-AI-driven-business-operation\n"
     ]
    }
   ],
   "source": [
    "import os\n",
    "import sys\n",
    "from sklearn.tree import DecisionTreeClassifier\n",
    "from sklearn.metrics import classification_report, confusion_matrix\n",
    "\n",
    "sys.path.append(os.path.dirname(os.path.abspath(os.getcwd())) + \"/..\")\n",
    "if os.getcwd().endswith(\"Topic2\"):\n",
    "    os.chdir(\"..\")\n",
    "    print(f\"Changed to {os.getcwd()}\")\n",
    "\n",
    "from codebase import load_odin_as_ml_dataset, plot_confusion_matrix, transport_modes_dict"
   ]
  },
  {
   "cell_type": "markdown",
   "id": "ed2131f2",
   "metadata": {},
   "source": [
    "Choose the transport modes you wish to include in the classification"
   ]
  },
  {
   "cell_type": "code",
   "execution_count": null,
   "id": "945dcad1",
   "metadata": {},
   "outputs": [
    {
     "data": {
      "text/plain": [
       "{1: 'Passenger car',\n",
       " 2: 'Train',\n",
       " 3: 'Bus',\n",
       " 4: 'Tram',\n",
       " 5: 'Metro',\n",
       " 6: 'Speed pedelec',\n",
       " 7: 'Electric bicycle',\n",
       " 8: 'Non-electric bicycle',\n",
       " 9: 'On foot',\n",
       " 10: 'Touring car',\n",
       " 11: 'Delivery van',\n",
       " 12: 'Truck',\n",
       " 13: 'Camper',\n",
       " 14: 'Taxi/Minibus',\n",
       " 15: 'Agricultural vehicle',\n",
       " 16: 'Motorcycle',\n",
       " 17: 'Moped',\n",
       " 18: 'Light moped',\n",
       " 19: 'Mobility aid with motor',\n",
       " 20: 'Mobility aid without motor',\n",
       " 21: 'Skates/inline skates/kick scooter',\n",
       " 22: 'Boat',\n",
       " 23: 'Other with motor',\n",
       " 24: 'Other without motor'}"
      ]
     },
     "execution_count": 14,
     "metadata": {},
     "output_type": "execute_result"
    }
   ],
   "source": [
    "transport_modes_dict"
   ]
  },
  {
   "cell_type": "code",
   "execution_count": 12,
   "id": "1710551b1307f718",
   "metadata": {
    "ExecuteTime": {
     "end_time": "2025-04-30T08:23:05.322600Z",
     "start_time": "2025-04-30T08:23:04.056580Z"
    }
   },
   "outputs": [
    {
     "name": "stdout",
     "output_type": "stream",
     "text": [
      "[INFO] Loading ODiN data for years: [2022]\n",
      "[INFO] Reading file: data\\OdiN 2019-2023\\OdiN 2022\\ODiN2022_Databestand.csv\n",
      "Loaded file from CSV\n",
      "[INFO] Loaded 200,054 rows for 2022\n",
      "[INFO] Total rows after concatenation: 200,054\n",
      "[FILTER] Only-one-mode trips: 172,256 rows (filtered 27,798)\n",
      "[FILTER] After ignore rules: 172,256 rows (filtered 0)\n",
      "[DONE] Final dataset shape: (172256, 247)\n",
      "Common labels: [1 8]\n"
     ]
    }
   ],
   "source": [
    "modes_to_predict = [1, 8,]\n",
    "# Load the dataset\n",
    "X_train, X_test, y_train, y_test = load_odin_as_ml_dataset(\n",
    "    years=[2022], \n",
    "    transport_modes_predict=modes_to_predict,\n",
    "    )"
   ]
  },
  {
   "cell_type": "code",
   "execution_count": null,
   "id": "d4bf8353",
   "metadata": {},
   "outputs": [
    {
     "name": "stdout",
     "output_type": "stream",
     "text": [
      "              precision    recall  f1-score   support\n",
      "\n",
      "           1       0.88      0.89      0.88     14340\n",
      "           8       0.78      0.76      0.77      7306\n",
      "\n",
      "    accuracy                           0.85     21646\n",
      "   macro avg       0.83      0.82      0.83     21646\n",
      "weighted avg       0.84      0.85      0.84     21646\n",
      "\n"
     ]
    },
    {
     "data": {
      "image/png": "[encoded data removed]",
      "text/plain": [
       "<Figure size 200x200 with 2 Axes>"
      ]
     },
     "metadata": {},
     "output_type": "display_data"
    }
   ],
   "source": [
    "\n",
    "# Use a decision tree classifier instead of random forest\n",
    "model = DecisionTreeClassifier(random_state=42)\n",
    "model.fit(X_train, y_train)\n",
    "y_pred = model.predict(X_test)\n",
    "\n",
    "# Print metrics\n",
    "print(classification_report(y_test, y_pred))\n",
    "\n",
    "# Compute confusion matrix\n",
    "cm = confusion_matrix(y_test, y_pred)\n",
    "plot_confusion_matrix(\n",
    "    cm, \n",
    "    classes=[transport_modes_dict[i] for i in modes_to_predict], \n",
    "    title=\"Confusion Matrix for Decision Tree Classifier\",\n",
    "    savename=None\n",
    ")"
   ]
  }
 ],
 "metadata": {
  "kernelspec": {
   "display_name": ".venv",
   "language": "python",
   "name": "python3"
  },
  "language_info": {
   "codemirror_mode": {
    "name": "ipython",
    "version": 3
   },
   "file_extension": ".py",
   "mimetype": "text/x-python",
   "name": "python",
   "nbconvert_exporter": "python",
   "pygments_lexer": "ipython3",
   "version": "3.11.0"
  }
 },
 "nbformat": 4,
 "nbformat_minor": 5
}
