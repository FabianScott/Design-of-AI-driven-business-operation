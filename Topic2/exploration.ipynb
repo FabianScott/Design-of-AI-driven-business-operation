{
 "cells": [
  {
   "cell_type": "code",
   "execution_count": 1,
   "id": "a8d564f7",
   "metadata": {},
   "outputs": [
    {
     "name": "stdout",
     "output_type": "stream",
     "text": [
      "Changed to c:\\Users\\toell\\Documents\\GitHub\\Design-of-AI-driven-business-operation\n"
     ]
    }
   ],
   "source": [
    "import os\n",
    "import sys\n",
    "import pandas as pd\n",
    "import numpy as np\n",
    "import matplotlib.pyplot as plt\n",
    "sys.path.append(os.path.dirname(os.path.abspath(os.getcwd())) + \"/..\")\n",
    "if os.getcwd().endswith(\"Topic2\"):\n",
    "    os.chdir(\"..\")\n",
    "    print(f\"Changed to {os.getcwd()}\")\n",
    "\n",
    "from codebase import load_excel, load_odin_as_ml_dataset"
   ]
  },
  {
   "cell_type": "code",
   "execution_count": null,
   "id": "baa8dac5",
   "metadata": {},
   "outputs": [
    {
     "name": "stdout",
     "output_type": "stream",
     "text": [
      "Loaded file from CSV\n"
     ]
    }
   ],
   "source": [
    "# Here just in case\n",
    "# year = 2022\n",
    "# odin_excel_path = os.path.join(os.getcwd(), \"data\", \"OdiN 2019-2023\", f\"OdiN {year}\", f\"ODiN{year}_Databestand.csv\")\n",
    "# df = load_excel(odin_excel_path)"
   ]
  },
  {
   "cell_type": "code",
   "execution_count": null,
   "id": "33302678",
   "metadata": {},
   "outputs": [
    {
     "name": "stdout",
     "output_type": "stream",
     "text": [
      "Loaded file from CSV\n",
      "Drop Column AantRitVertLoc not in dataframe\n",
      "Categorical Column Wogem not in dataframe\n",
      "Categorical Column RDHalteA not in dataframe\n",
      "Categorical Column AutoHhl not in dataframe\n",
      "Categorical Column KGewitchPa1 not in dataframe\n",
      "Categorical Column AantOVVPl not in dataframe\n"
     ]
    }
   ],
   "source": [
    "X_train, X_test, y_train, y_test = load_odin_as_ml_dataset(\n",
    "    year=2022,\n",
    ")"
   ]
  },
  {
   "cell_type": "code",
   "execution_count": null,
   "id": "3188581f",
   "metadata": {},
   "outputs": [
    {
     "name": "stdout",
     "output_type": "stream",
     "text": [
      "              precision    recall  f1-score   support\n",
      "\n",
      "       False       1.00      1.00      1.00     34067\n",
      "        True       1.00      0.98      0.99      5944\n",
      "\n",
      "    accuracy                           1.00     40011\n",
      "   macro avg       1.00      0.99      0.99     40011\n",
      "weighted avg       1.00      1.00      1.00     40011\n",
      "\n",
      "[[34039    28]\n",
      " [  145  5799]]\n"
     ]
    }
   ],
   "source": [
    "# Use a random forest classifier as an example\n",
    "from sklearn.ensemble import RandomForestClassifier\n",
    "from sklearn.metrics import classification_report, confusion_matrix\n",
    "\n",
    "model = RandomForestClassifier(random_state=42, verbose=3, n_jobs=-1)\n",
    "model.fit(X_train, y_train)\n",
    "y_pred = model.predict(X_test)\n",
    "print(classification_report(y_test, y_pred))\n",
    "print(confusion_matrix(y_test, y_pred))"
   ]
  }
 ],
 "metadata": {
  "kernelspec": {
   "display_name": ".venv",
   "language": "python",
   "name": "python3"
  },
  "language_info": {
   "codemirror_mode": {
    "name": "ipython",
    "version": 3
   },
   "file_extension": ".py",
   "mimetype": "text/x-python",
   "name": "python",
   "nbconvert_exporter": "python",
   "pygments_lexer": "ipython3",
   "version": "3.11.0"
  }
 },
 "nbformat": 4,
 "nbformat_minor": 5
}
