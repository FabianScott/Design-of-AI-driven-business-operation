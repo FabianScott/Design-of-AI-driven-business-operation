{
 "cells": [
  {
   "cell_type": "code",
   "execution_count": 1,
   "id": "a8d564f7",
   "metadata": {},
   "outputs": [
    {
     "name": "stdout",
     "output_type": "stream",
     "text": [
      "Changed to c:\\Users\\flori\\OneDrive - TU Eindhoven\\Master TUe 2024-2025\\Design-of-AI-driven-business-operation\n"
     ]
    }
   ],
   "source": [
    "import os\n",
    "import sys\n",
    "import pandas as pd\n",
    "import numpy as np\n",
    "import matplotlib.pyplot as plt\n",
    "from sklearn.ensemble import RandomForestClassifier\n",
    "from sklearn.metrics import classification_report, confusion_matrix\n",
    "from sklearn.preprocessing import MinMaxScaler\n",
    "from sklearn.pipeline import make_pipeline\n",
    "\n",
    "sys.path.append(os.path.dirname(os.path.abspath(os.getcwd())) + \"/..\")\n",
    "if os.getcwd().endswith(\"Topic2\"):\n",
    "    os.chdir(\"..\")\n",
    "    print(f\"Changed to {os.getcwd()}\")\n",
    "\n",
    "from codebase import load_excel, load_odin_as_ml_dataset, plot_confusion_matrix, make_ml_dataset, run_binary_regression, transport_modes, trip_motives, province_codes, transport_mode_col"
   ]
  },
  {
   "cell_type": "code",
   "execution_count": 2,
   "id": "65630f1c",
   "metadata": {},
   "outputs": [
    {
     "name": "stdout",
     "output_type": "stream",
     "text": [
      "Loaded file from CSV\n"
     ]
    },
    {
     "ename": "ValueError",
     "evalue": "The truth value of a DataFrame is ambiguous. Use a.empty, a.bool(), a.item(), a.any() or a.all().",
     "output_type": "error",
     "traceback": [
      "\u001b[1;31m---------------------------------------------------------------------------\u001b[0m",
      "\u001b[1;31mValueError\u001b[0m                                Traceback (most recent call last)",
      "\u001b[1;32m~\\AppData\\Local\\Temp\\ipykernel_12900\\3252655816.py\u001b[0m in \u001b[0;36m?\u001b[1;34m()\u001b[0m\n\u001b[0;32m      1\u001b[0m \u001b[0myears\u001b[0m \u001b[1;33m=\u001b[0m \u001b[1;33m[\u001b[0m\u001b[1;36m2019\u001b[0m\u001b[1;33m,\u001b[0m \u001b[1;36m2020\u001b[0m\u001b[1;33m,\u001b[0m \u001b[1;36m2021\u001b[0m\u001b[1;33m,\u001b[0m \u001b[1;36m2022\u001b[0m\u001b[1;33m,\u001b[0m \u001b[1;36m2023\u001b[0m\u001b[1;33m]\u001b[0m\u001b[1;33m\u001b[0m\u001b[1;33m\u001b[0m\u001b[0m\n\u001b[0;32m      2\u001b[0m \u001b[0mdfs\u001b[0m \u001b[1;33m=\u001b[0m \u001b[1;33m[\u001b[0m\u001b[1;33m]\u001b[0m\u001b[1;33m\u001b[0m\u001b[1;33m\u001b[0m\u001b[0m\n\u001b[0;32m      3\u001b[0m \u001b[1;32mfor\u001b[0m \u001b[0myear\u001b[0m \u001b[1;32min\u001b[0m \u001b[0myears\u001b[0m\u001b[1;33m:\u001b[0m\u001b[1;33m\u001b[0m\u001b[1;33m\u001b[0m\u001b[0m\n\u001b[0;32m      4\u001b[0m     \u001b[0modin_excel_path\u001b[0m \u001b[1;33m=\u001b[0m \u001b[0mos\u001b[0m\u001b[1;33m.\u001b[0m\u001b[0mpath\u001b[0m\u001b[1;33m.\u001b[0m\u001b[0mjoin\u001b[0m\u001b[1;33m(\u001b[0m\u001b[0mos\u001b[0m\u001b[1;33m.\u001b[0m\u001b[0mgetcwd\u001b[0m\u001b[1;33m(\u001b[0m\u001b[1;33m)\u001b[0m\u001b[1;33m,\u001b[0m \u001b[1;34m\"data\"\u001b[0m\u001b[1;33m,\u001b[0m \u001b[1;34m\"OdiN 2019-2023\"\u001b[0m\u001b[1;33m,\u001b[0m \u001b[1;34mf\"OdiN {year}\"\u001b[0m\u001b[1;33m,\u001b[0m \u001b[1;34mf\"ODiN{year}_Databestand.csv\"\u001b[0m\u001b[1;33m)\u001b[0m\u001b[1;33m\u001b[0m\u001b[1;33m\u001b[0m\u001b[0m\n\u001b[1;32m----> 5\u001b[1;33m     \u001b[1;32mif\u001b[0m \u001b[0myear\u001b[0m \u001b[1;32min\u001b[0m \u001b[0mdfs\u001b[0m\u001b[1;33m:\u001b[0m\u001b[1;33m\u001b[0m\u001b[1;33m\u001b[0m\u001b[0m\n\u001b[0m\u001b[0;32m      6\u001b[0m         \u001b[0modin_excel_path\u001b[0m \u001b[1;33m=\u001b[0m \u001b[0modin_excel_path\u001b[0m\u001b[1;33m.\u001b[0m\u001b[0mreplace\u001b[0m\u001b[1;33m(\u001b[0m\u001b[1;34m\"Databestand\"\u001b[0m\u001b[1;33m,\u001b[0m \u001b[1;34m\"Databestand_v2.0\"\u001b[0m\u001b[1;33m)\u001b[0m\u001b[1;33m\u001b[0m\u001b[1;33m\u001b[0m\u001b[0m\n\u001b[0;32m      7\u001b[0m     \u001b[0mdf\u001b[0m \u001b[1;33m=\u001b[0m \u001b[0mload_excel\u001b[0m\u001b[1;33m(\u001b[0m\u001b[0modin_excel_path\u001b[0m\u001b[1;33m)\u001b[0m\u001b[1;33m\u001b[0m\u001b[1;33m\u001b[0m\u001b[0m\n\u001b[0;32m      8\u001b[0m     \u001b[0mdfs\u001b[0m\u001b[1;33m.\u001b[0m\u001b[0mappend\u001b[0m\u001b[1;33m(\u001b[0m\u001b[0mdf\u001b[0m\u001b[1;33m)\u001b[0m\u001b[1;33m\u001b[0m\u001b[1;33m\u001b[0m\u001b[0m\n",
      "\u001b[1;32mc:\\ProgramData\\anaconda3\\Lib\\site-packages\\pandas\\core\\generic.py\u001b[0m in \u001b[0;36m?\u001b[1;34m(self)\u001b[0m\n\u001b[0;32m   1517\u001b[0m     \u001b[1;33m@\u001b[0m\u001b[0mfinal\u001b[0m\u001b[1;33m\u001b[0m\u001b[1;33m\u001b[0m\u001b[0m\n\u001b[0;32m   1518\u001b[0m     \u001b[1;32mdef\u001b[0m \u001b[0m__nonzero__\u001b[0m\u001b[1;33m(\u001b[0m\u001b[0mself\u001b[0m\u001b[1;33m)\u001b[0m \u001b[1;33m->\u001b[0m \u001b[0mNoReturn\u001b[0m\u001b[1;33m:\u001b[0m\u001b[1;33m\u001b[0m\u001b[1;33m\u001b[0m\u001b[0m\n\u001b[1;32m-> 1519\u001b[1;33m         raise ValueError(\n\u001b[0m\u001b[0;32m   1520\u001b[0m             \u001b[1;34mf\"The truth value of a {type(self).__name__} is ambiguous. \"\u001b[0m\u001b[1;33m\u001b[0m\u001b[1;33m\u001b[0m\u001b[0m\n\u001b[0;32m   1521\u001b[0m             \u001b[1;34m\"Use a.empty, a.bool(), a.item(), a.any() or a.all().\"\u001b[0m\u001b[1;33m\u001b[0m\u001b[1;33m\u001b[0m\u001b[0m\n\u001b[0;32m   1522\u001b[0m         )\n",
      "\u001b[1;31mValueError\u001b[0m: The truth value of a DataFrame is ambiguous. Use a.empty, a.bool(), a.item(), a.any() or a.all()."
     ]
    }
   ],
   "source": [
    "years = [2019, 2020, 2021, 2022, 2023]\n",
    "dfs = []\n",
    "for year in years:\n",
    "    odin_excel_path = os.path.join(os.getcwd(), \"data\", \"OdiN 2019-2023\", f\"OdiN {year}\", f\"ODiN{year}_Databestand.csv\")\n",
    "    if year in dfs:\n",
    "        odin_excel_path = odin_excel_path.replace(\"Databestand\", \"Databestand_v2.0\")\n",
    "    df = load_excel(odin_excel_path)\n",
    "    dfs.append(df)\n",
    "\n",
    "df_all = pd.concat(dfs, ignore_index=True)"
   ]
  },
  {
   "cell_type": "code",
   "execution_count": null,
   "id": "5793114f",
   "metadata": {},
   "outputs": [],
   "source": [
    "len(df), len(df[\"OPID\"].unique())"
   ]
  },
  {
   "cell_type": "code",
   "execution_count": null,
   "id": "baa8dac5",
   "metadata": {},
   "outputs": [],
   "source": [
    "# Here just in case\n",
    "year = 2022\n",
    "odin_excel_path = os.path.join(os.getcwd(), \"data\", \"OdiN 2019-2023\", f\"OdiN {year}\", f\"ODiN{year}_Databestand.csv\")\n",
    "df = load_excel(odin_excel_path)\n",
    "df = df[df[\"Verpl\"] == 1]\n",
    "len(df)"
   ]
  },
  {
   "cell_type": "code",
   "execution_count": null,
   "id": "bc7917cd",
   "metadata": {},
   "outputs": [],
   "source": [
    "len(df_all) / df_all[\"VertPC\"].unique().shape[0]"
   ]
  },
  {
   "cell_type": "code",
   "execution_count": null,
   "id": "22d7fd0b",
   "metadata": {},
   "outputs": [],
   "source": [
    "# Create a histogram for the number of trips for each transport mode and translate to \n",
    "df[transport_mode_col].value_counts().plot(kind=\"bar\", title=\"Number of trips per transport mode\")"
   ]
  },
  {
   "cell_type": "code",
   "execution_count": null,
   "id": "eb0a6a83",
   "metadata": {},
   "outputs": [],
   "source": [
    "for val, name in transport_modes.items():\n",
    "    print(f\"Number of {name}: ({len(df[df[transport_mode_col] == val])})\")"
   ]
  },
  {
   "cell_type": "code",
   "execution_count": null,
   "id": "66814d13",
   "metadata": {},
   "outputs": [],
   "source": [
    "print(transport_modes)"
   ]
  },
  {
   "cell_type": "code",
   "execution_count": null,
   "id": "7c818944",
   "metadata": {},
   "outputs": [],
   "source": [
    "print(trip_motives)"
   ]
  },
  {
   "cell_type": "code",
   "execution_count": null,
   "id": "5ce0882c",
   "metadata": {},
   "outputs": [],
   "source": [
    "print(province_codes)"
   ]
  },
  {
   "cell_type": "code",
   "execution_count": null,
   "id": "7800e2a9",
   "metadata": {},
   "outputs": [],
   "source": [
    "df.columns"
   ]
  },
  {
   "cell_type": "code",
   "execution_count": null,
   "id": "a477e129",
   "metadata": {},
   "outputs": [],
   "source": [
    "max_dist=600 # max distance in 100s of meters\n",
    "motives=None \n",
    "vehicles_to_include = [1, 2, 3, 7, 8, 9, ]\n",
    "for transport_mode in vehicles_to_include:\n",
    "    run_binary_regression(\n",
    "        df,\n",
    "        test_size=0.2,\n",
    "        transport_modes_predict=[transport_mode, ],\n",
    "        motives=motives,\n",
    "        max_dist=max_dist,\n",
    "        savename=f\"graphics/classification_results/binary_regression/{motives}/{transport_modes[transport_mode].replace(r'/', ' or ')}_{max_dist}\",\n",
    "    )"
   ]
  },
  {
   "cell_type": "code",
   "execution_count": null,
   "id": "cf86ca65",
   "metadata": {},
   "outputs": [],
   "source": [
    "combined_modes = [[7, 8, 9]]\n",
    "for tm in combined_modes:\n",
    "    transport_mode_str = \", \".join([transport_modes[tm_] for tm_ in tm])\n",
    "    run_binary_regression(\n",
    "        df,\n",
    "        test_size=0.2,\n",
    "        transport_modes_predict=tm,\n",
    "        motives=motives,\n",
    "        max_dist=max_dist,\n",
    "        savename=f\"graphics/classification_results/binary_regression/{motives}/{transport_mode_str.replace(r'/', ' or ')}_{max_dist}\",\n",
    "    )"
   ]
  },
  {
   "cell_type": "markdown",
   "id": "3f1de2be",
   "metadata": {},
   "source": [
    "Now a classifier that classifies what mode of transport was used"
   ]
  },
  {
   "cell_type": "code",
   "execution_count": null,
   "id": "57a988d6",
   "metadata": {},
   "outputs": [],
   "source": [
    "print(transport_modes)"
   ]
  },
  {
   "cell_type": "code",
   "execution_count": null,
   "id": "20bc75ec",
   "metadata": {},
   "outputs": [],
   "source": [
    "from codebase import run_multiclass_classification, distance_col, origin_col, province_codes, level_mapping_suffix, age_col, transport_mode_col, motive_col, urbanness_col\n",
    "\n",
    "\n",
    "df_multiclass = df[df[transport_mode_col] != df[transport_mode_col].max()]\n",
    "motives=None\n",
    "origins=None#[7, 8, ]\n",
    "location_level=2\n",
    "categorical_features=[origin_col]\n",
    "numerical_features=[distance_col, urbanness_col, motive_col]\n",
    "origin_str = ', '.join(province_codes[code] for code in origins) if origins is not None else \"NL\"\n",
    "motive_str = ', '.join(trip_motives[motive] for motive in motives) if motives is not None else \"all motives\"\n",
    "\n",
    "_ = run_multiclass_classification(\n",
    "    df_multiclass,\n",
    "    test_size=0.2,\n",
    "    destinations=None,\n",
    "    origins=origins,\n",
    "    location_level=location_level,\n",
    "    categorical_features=categorical_features,\n",
    "    numerical_features=numerical_features,\n",
    "    motives=motives,\n",
    "    plot=True,\n",
    "    savename=f\"graphics/classification_results/multiclass/{level_mapping_suffix[location_level]}/{origins}/{motives}/{categorical_features + numerical_features}\",\n",
    "    plot_title=f\"Confusion Matrix for {origin_str} and {motive_str}\",\n",
    ")"
   ]
  },
  {
   "cell_type": "code",
   "execution_count": null,
   "id": "74345da3",
   "metadata": {},
   "outputs": [],
   "source": [
    "from codebase import urbanness_col, motive_col\n",
    "\n",
    "age_range = (0, np.inf)\n",
    "\n",
    "df_less_vehicles = df_multiclass[df_multiclass[transport_mode_col].isin(vehicles_to_include)]\n",
    "df_less_vehicles = df_less_vehicles[(df_less_vehicles[age_col] < age_range[1]) & (df_less_vehicles[age_col] > age_range[0])]\n",
    "\n",
    "motives=None\n",
    "origins=None#[7, 8, ]\n",
    "location_level=2\n",
    "categorical_features=[origin_col]\n",
    "numerical_features=[distance_col, urbanness_col, motive_col]\n",
    "origin_str = ', '.join(province_codes[code] for code in origins) if origins is not None else \"NL\"\n",
    "\n",
    "_ = run_multiclass_classification(\n",
    "    df_less_vehicles,\n",
    "    test_size=0.2,\n",
    "    destinations=None,\n",
    "    origins=origins,\n",
    "    location_level=location_level,\n",
    "    categorical_features=categorical_features,\n",
    "    numerical_features=numerical_features,\n",
    "    motives=motives,\n",
    "    plot=True,\n",
    "    savename=f\"graphics/classification_results/multiclass/{level_mapping_suffix[location_level]}/{origins}/less_vehicles/age_{age_range[0]}_{age_range[1]}/{categorical_features + numerical_features}\",\n",
    "    plot_title=f\"Confusion Matrix for {origin_str} by {', '.join(transport_modes[tm] for tm in vehicles_to_include)}\",\n",
    ")"
   ]
  },
  {
   "cell_type": "code",
   "execution_count": null,
   "id": "5bc4ae37",
   "metadata": {},
   "outputs": [],
   "source": [
    "# Include a subset af transport modes to compare the bike to\n",
    "\n",
    "run_binary_regression(\n",
    "        df_less_vehicles[df_less_vehicles[transport_mode_col].isin([1, 8,])],\n",
    "        test_size=0.2,\n",
    "        transport_modes_predict=[8, ],\n",
    "        motives=motives,\n",
    "        max_dist=max_dist,\n",
    "        savename=f\"graphics/classification_results/binary_regression/car_foot_and_bike/{transport_modes[transport_mode].replace(r'/', ' or ')}_{max_dist}\",\n",
    "    )"
   ]
  }
 ],
 "metadata": {
  "kernelspec": {
   "display_name": "base",
   "language": "python",
   "name": "python3"
  },
  "language_info": {
   "codemirror_mode": {
    "name": "ipython",
    "version": 3
   },
   "file_extension": ".py",
   "mimetype": "text/x-python",
   "name": "python",
   "nbconvert_exporter": "python",
   "pygments_lexer": "ipython3",
   "version": "3.11.7"
  }
 },
 "nbformat": 4,
 "nbformat_minor": 5
}
