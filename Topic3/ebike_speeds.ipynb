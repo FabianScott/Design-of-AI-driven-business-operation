{
 "cells": [
  {
   "cell_type": "code",
   "execution_count": 1,
   "id": "727c69bb",
   "metadata": {
    "ExecuteTime": {
     "end_time": "2025-05-14T12:13:31.093338Z",
     "start_time": "2025-05-14T12:13:26.030729Z"
    }
   },
   "outputs": [
    {
     "name": "stdout",
     "output_type": "stream",
     "text": [
      "Changed to c:\\Users\\toell\\Documents\\GitHub\\Design-of-AI-driven-business-operation\n"
     ]
    }
   ],
   "source": [
    "import os\n",
    "import sys\n",
    "import pandas as pd\n",
    "import numpy as np\n",
    "import matplotlib.pyplot as plt\n",
    "sys.path.append(os.path.dirname(os.path.abspath(os.getcwd())) + \"/..\")\n",
    "if os.getcwd().endswith(\"Topic3\"):\n",
    "    os.chdir(\"..\")\n",
    "    print(f\"Changed to {os.getcwd()}\")\n",
    "\n",
    "from codebase import (\n",
    "    load_demograhics, \n",
    "    load_buurt_data, \n",
    "    willingness_to_cycle, \n",
    "    add_willingness_to_cycle_column, \n",
    "    align_by_buurt,\n",
    "    punt_buurt_code_column, \n",
    "    punt_travel_time_column,\n",
    "    demographics_population_column\n",
    ")"
   ]
  },
  {
   "cell_type": "code",
   "execution_count": 2,
   "id": "5a27f255",
   "metadata": {
    "ExecuteTime": {
     "end_time": "2025-05-14T12:13:31.465295Z",
     "start_time": "2025-05-14T12:13:31.096682Z"
    }
   },
   "outputs": [
    {
     "name": "stdout",
     "output_type": "stream",
     "text": [
      "Loaded file from CSV\n"
     ]
    }
   ],
   "source": [
    "mode = \"ebike\"\n",
    "punt1 = \"basis\"\n",
    "location = \"Education\"\n",
    "\n",
    "df_demographics = load_demograhics()\n",
    "df_punt = load_buurt_data(punt1, mode=mode)"
   ]
  },
  {
   "cell_type": "code",
   "execution_count": 3,
   "id": "38dea102",
   "metadata": {},
   "outputs": [
    {
     "data": {
      "text/html": [
       "<div>\n",
       "<style scoped>\n",
       "    .dataframe tbody tr th:only-of-type {\n",
       "        vertical-align: middle;\n",
       "    }\n",
       "\n",
       "    .dataframe tbody tr th {\n",
       "        vertical-align: top;\n",
       "    }\n",
       "\n",
       "    .dataframe thead th {\n",
       "        text-align: right;\n",
       "    }\n",
       "</style>\n",
       "<table border=\"1\" class=\"dataframe\">\n",
       "  <thead>\n",
       "    <tr style=\"text-align: right;\">\n",
       "      <th></th>\n",
       "      <th>reistijd_min</th>\n",
       "      <th>reisafstand_m</th>\n",
       "      <th>afstand_hemelsbreed_m</th>\n",
       "      <th>omrijdfactor</th>\n",
       "    </tr>\n",
       "  </thead>\n",
       "  <tbody>\n",
       "    <tr>\n",
       "      <th>count</th>\n",
       "      <td>9.956232e+06</td>\n",
       "      <td>9.956232e+06</td>\n",
       "      <td>9.956232e+06</td>\n",
       "      <td>9.956232e+06</td>\n",
       "    </tr>\n",
       "    <tr>\n",
       "      <th>mean</th>\n",
       "      <td>7.561065e+01</td>\n",
       "      <td>2.676606e+04</td>\n",
       "      <td>2.196859e+04</td>\n",
       "      <td>1.226915e+00</td>\n",
       "    </tr>\n",
       "    <tr>\n",
       "      <th>std</th>\n",
       "      <td>5.478498e+01</td>\n",
       "      <td>1.083328e+04</td>\n",
       "      <td>8.740672e+03</td>\n",
       "      <td>1.499960e-01</td>\n",
       "    </tr>\n",
       "    <tr>\n",
       "      <th>min</th>\n",
       "      <td>0.000000e+00</td>\n",
       "      <td>0.000000e+00</td>\n",
       "      <td>0.000000e+00</td>\n",
       "      <td>0.000000e+00</td>\n",
       "    </tr>\n",
       "    <tr>\n",
       "      <th>25%</th>\n",
       "      <td>5.200000e+01</td>\n",
       "      <td>1.906300e+04</td>\n",
       "      <td>1.564600e+04</td>\n",
       "      <td>1.160000e+00</td>\n",
       "    </tr>\n",
       "    <tr>\n",
       "      <th>50%</th>\n",
       "      <td>7.700000e+01</td>\n",
       "      <td>2.807200e+04</td>\n",
       "      <td>2.320900e+04</td>\n",
       "      <td>1.200000e+00</td>\n",
       "    </tr>\n",
       "    <tr>\n",
       "      <th>75%</th>\n",
       "      <td>9.700000e+01</td>\n",
       "      <td>3.535500e+04</td>\n",
       "      <td>2.936400e+04</td>\n",
       "      <td>1.260000e+00</td>\n",
       "    </tr>\n",
       "    <tr>\n",
       "      <th>max</th>\n",
       "      <td>4.104000e+03</td>\n",
       "      <td>1.670420e+05</td>\n",
       "      <td>4.076700e+04</td>\n",
       "      <td>8.335000e+01</td>\n",
       "    </tr>\n",
       "  </tbody>\n",
       "</table>\n",
       "</div>"
      ],
      "text/plain": [
       "       reistijd_min  reisafstand_m  afstand_hemelsbreed_m  omrijdfactor\n",
       "count  9.956232e+06   9.956232e+06           9.956232e+06  9.956232e+06\n",
       "mean   7.561065e+01   2.676606e+04           2.196859e+04  1.226915e+00\n",
       "std    5.478498e+01   1.083328e+04           8.740672e+03  1.499960e-01\n",
       "min    0.000000e+00   0.000000e+00           0.000000e+00  0.000000e+00\n",
       "25%    5.200000e+01   1.906300e+04           1.564600e+04  1.160000e+00\n",
       "50%    7.700000e+01   2.807200e+04           2.320900e+04  1.200000e+00\n",
       "75%    9.700000e+01   3.535500e+04           2.936400e+04  1.260000e+00\n",
       "max    4.104000e+03   1.670420e+05           4.076700e+04  8.335000e+01"
      ]
     },
     "execution_count": 3,
     "metadata": {},
     "output_type": "execute_result"
    }
   ],
   "source": [
    "df_punt.describe()"
   ]
  },
  {
   "cell_type": "code",
   "execution_count": 4,
   "id": "05b73808",
   "metadata": {},
   "outputs": [
    {
     "name": "stdout",
     "output_type": "stream",
     "text": [
      "Demographics and filtered dataframes do not match in length: 14405 vs 9956232, ignoring missing values\n"
     ]
    }
   ],
   "source": [
    "df_punt, df_demographics = align_by_buurt(df_punt, df_demographics,)"
   ]
  },
  {
   "cell_type": "code",
   "execution_count": 5,
   "id": "602f80b2",
   "metadata": {},
   "outputs": [
    {
     "data": {
      "text/html": [
       "<div>\n",
       "<style scoped>\n",
       "    .dataframe tbody tr th:only-of-type {\n",
       "        vertical-align: middle;\n",
       "    }\n",
       "\n",
       "    .dataframe tbody tr th {\n",
       "        vertical-align: top;\n",
       "    }\n",
       "\n",
       "    .dataframe thead th {\n",
       "        text-align: right;\n",
       "    }\n",
       "</style>\n",
       "<table border=\"1\" class=\"dataframe\">\n",
       "  <thead>\n",
       "    <tr style=\"text-align: right;\">\n",
       "      <th></th>\n",
       "      <th>reistijd_min</th>\n",
       "      <th>reisafstand_m</th>\n",
       "      <th>afstand_hemelsbreed_m</th>\n",
       "      <th>omrijdfactor</th>\n",
       "    </tr>\n",
       "  </thead>\n",
       "  <tbody>\n",
       "    <tr>\n",
       "      <th>count</th>\n",
       "      <td>14405.000000</td>\n",
       "      <td>14405.000000</td>\n",
       "      <td>14405.000000</td>\n",
       "      <td>14405.000000</td>\n",
       "    </tr>\n",
       "    <tr>\n",
       "      <th>mean</th>\n",
       "      <td>82.523568</td>\n",
       "      <td>26989.327803</td>\n",
       "      <td>22004.399583</td>\n",
       "      <td>1.233183</td>\n",
       "    </tr>\n",
       "    <tr>\n",
       "      <th>std</th>\n",
       "      <td>112.113872</td>\n",
       "      <td>11555.400914</td>\n",
       "      <td>8830.166904</td>\n",
       "      <td>0.216313</td>\n",
       "    </tr>\n",
       "    <tr>\n",
       "      <th>min</th>\n",
       "      <td>1.000000</td>\n",
       "      <td>216.000000</td>\n",
       "      <td>171.000000</td>\n",
       "      <td>1.000000</td>\n",
       "    </tr>\n",
       "    <tr>\n",
       "      <th>25%</th>\n",
       "      <td>52.000000</td>\n",
       "      <td>18768.000000</td>\n",
       "      <td>15457.000000</td>\n",
       "      <td>1.150000</td>\n",
       "    </tr>\n",
       "    <tr>\n",
       "      <th>50%</th>\n",
       "      <td>77.000000</td>\n",
       "      <td>28126.000000</td>\n",
       "      <td>23300.000000</td>\n",
       "      <td>1.200000</td>\n",
       "    </tr>\n",
       "    <tr>\n",
       "      <th>75%</th>\n",
       "      <td>97.000000</td>\n",
       "      <td>35688.000000</td>\n",
       "      <td>29557.000000</td>\n",
       "      <td>1.260000</td>\n",
       "    </tr>\n",
       "    <tr>\n",
       "      <th>max</th>\n",
       "      <td>3241.000000</td>\n",
       "      <td>117159.000000</td>\n",
       "      <td>35121.000000</td>\n",
       "      <td>6.960000</td>\n",
       "    </tr>\n",
       "  </tbody>\n",
       "</table>\n",
       "</div>"
      ],
      "text/plain": [
       "       reistijd_min  reisafstand_m  afstand_hemelsbreed_m  omrijdfactor\n",
       "count  14405.000000   14405.000000           14405.000000  14405.000000\n",
       "mean      82.523568   26989.327803           22004.399583      1.233183\n",
       "std      112.113872   11555.400914            8830.166904      0.216313\n",
       "min        1.000000     216.000000             171.000000      1.000000\n",
       "25%       52.000000   18768.000000           15457.000000      1.150000\n",
       "50%       77.000000   28126.000000           23300.000000      1.200000\n",
       "75%       97.000000   35688.000000           29557.000000      1.260000\n",
       "max     3241.000000  117159.000000           35121.000000      6.960000"
      ]
     },
     "execution_count": 5,
     "metadata": {},
     "output_type": "execute_result"
    }
   ],
   "source": [
    "df_punt.describe()"
   ]
  },
  {
   "cell_type": "code",
   "execution_count": 6,
   "id": "df0bd6d4",
   "metadata": {},
   "outputs": [
    {
     "data": {
      "text/plain": [
       "count    14405.000000\n",
       "mean      1236.125651\n",
       "std       1609.628593\n",
       "min          0.000000\n",
       "25%        185.000000\n",
       "50%        710.000000\n",
       "75%       1695.000000\n",
       "max      29265.000000\n",
       "Name: a_inw, dtype: float64"
      ]
     },
     "execution_count": 6,
     "metadata": {},
     "output_type": "execute_result"
    }
   ],
   "source": [
    "df_demographics[demographics_population_column].describe()"
   ]
  },
  {
   "cell_type": "code",
   "execution_count": 7,
   "id": "fbebd15c",
   "metadata": {},
   "outputs": [],
   "source": [
    "ebike_max = 25\n",
    "ebike_real = 21\n",
    "\n",
    "pedelec_max = 45\n",
    "pedelec_real = 28.8\n",
    "\n",
    "def interpolate_real_speed(speed):\n",
    "    if speed <= ebike_max:\n",
    "        return (speed / ebike_max) * ebike_real\n",
    "    elif speed <= pedelec_max:\n",
    "        return ebike_real + ((speed - ebike_max) / (pedelec_max - ebike_max)) * (pedelec_real - ebike_real)\n",
    "    else:\n",
    "        return pedelec_real\n",
    "\n",
    "def speed_ratio(speed):\n",
    "    interpolated = interpolate_real_speed(speed)\n",
    "    return ebike_real / interpolated\n",
    "\n",
    "col_time_base = \"ebike_time_\"\n",
    "col_willingness_base = \"ebike_willingness_\"\n",
    "col_willing_number_base = \"ebike_willingness_number_\"\n",
    "\n",
    "range_speeds = range(25, 45)\n",
    "population_willling = []\n",
    "\n",
    "for speed in range_speeds:\n",
    "    ratio = speed_ratio(speed)\n",
    "    col_time = col_time_base + str(speed)\n",
    "    col_willingness = col_willingness_base + str(speed)\n",
    "    col_willing_number = col_willing_number_base + str(speed)\n",
    "\n",
    "    df_punt[col_time] = df_punt[punt_travel_time_column] * ratio\n",
    "    df_punt[col_willingness] = willingness_to_cycle(df_punt[col_time], location=location, mode=mode)\n",
    "    df_punt[col_willing_number] = df_demographics[demographics_population_column].values * df_punt[col_willingness].values\n",
    "\n",
    "    population_willling.append(df_punt[col_willing_number].sum())"
   ]
  },
  {
   "cell_type": "code",
   "execution_count": 8,
   "id": "5bcf7277",
   "metadata": {},
   "outputs": [
    {
     "data": {
      "text/plain": [
       "0.9641873278236914"
      ]
     },
     "execution_count": 8,
     "metadata": {},
     "output_type": "execute_result"
    }
   ],
   "source": [
    "speed_ratio(27)"
   ]
  },
  {
   "cell_type": "code",
   "execution_count": 9,
   "id": "1d9eb215",
   "metadata": {},
   "outputs": [
    {
     "data": {
      "image/png": "[encoded data removed]",
      "text/plain": [
       "<Figure size 1000x600 with 2 Axes>"
      ]
     },
     "metadata": {},
     "output_type": "display_data"
    }
   ],
   "source": [
    "pop_current = population_willling[np.argwhere(np.array(range_speeds) == ebike_max)[0][0]]\n",
    "percentage_change = [val / pop_current * 100 for val in population_willling]\n",
    "\n",
    "plt.figure(figsize=(10, 6))\n",
    "ax1 = plt.gca()\n",
    "ax1.plot(range_speeds, population_willling, marker='o', color='b')\n",
    "ax1.set_xlabel(\"Max speed (km/h)\")\n",
    "ax1.set_ylabel(\"Population Willingness to Ebike (people)\", color='b')\n",
    "ax1.tick_params(axis='y', labelcolor='b')\n",
    "ax1.set_xticks(range_speeds)\n",
    "ax1.set_title(f\"Population Willingness to Ebike to {punt1} at Different Max Speeds\")\n",
    "ax1.set_ylim(0, max(population_willling) * 1.1)  # Adjust y-axis limit for better visibility\n",
    "ax1.grid()\n",
    "\n",
    "# Twin axis for proportion\n",
    "ax2 = ax1.twinx()\n",
    "ax2.plot(range_speeds, percentage_change, marker='x', color='g', linestyle='--')\n",
    "ax2.set_ylabel(\"Percentage of Current Willingness\", color='g')\n",
    "ax2.tick_params(axis='y', labelcolor='g')\n",
    "ax2.set_ylim(0, max(percentage_change) * 1.3)  # Adjust y-axis limit for better visibility\n",
    "\n",
    "plt.tight_layout()\n",
    "plt.savefig(f\"graphics/population_willingness_to_cycle_ebike_speeds_{punt1}.png\", dpi=300)\n",
    "plt.show()"
   ]
  },
  {
   "cell_type": "code",
   "execution_count": null,
   "id": "dd3bfca1",
   "metadata": {},
   "outputs": [],
   "source": []
  }
 ],
 "metadata": {
  "kernelspec": {
   "display_name": ".venv",
   "language": "python",
   "name": "python3"
  },
  "language_info": {
   "codemirror_mode": {
    "name": "ipython",
    "version": 3
   },
   "file_extension": ".py",
   "mimetype": "text/x-python",
   "name": "python",
   "nbconvert_exporter": "python",
   "pygments_lexer": "ipython3",
   "version": "3.11.0"
  }
 },
 "nbformat": 4,
 "nbformat_minor": 5
}
