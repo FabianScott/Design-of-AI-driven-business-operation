{
 "cells": [
  {
   "cell_type": "code",
   "execution_count": 1,
   "id": "727c69bb",
   "metadata": {
    "ExecuteTime": {
     "end_time": "2025-05-14T12:13:31.093338Z",
     "start_time": "2025-05-14T12:13:26.030729Z"
    }
   },
   "outputs": [
    {
     "name": "stdout",
     "output_type": "stream",
     "text": [
      "Changed to c:\\Users\\toell\\Documents\\GitHub\\Design-of-AI-driven-business-operation\n"
     ]
    }
   ],
   "source": [
    "import os\n",
    "import sys\n",
    "import pandas as pd\n",
    "import numpy as np\n",
    "import matplotlib.pyplot as plt\n",
    "sys.path.append(os.path.dirname(os.path.abspath(os.getcwd())) + \"/..\")\n",
    "if os.getcwd().endswith(\"Topic3\"):\n",
    "    os.chdir(\"..\")\n",
    "    print(f\"Changed to {os.getcwd()}\")\n",
    "\n",
    "from codebase import (\n",
    "    load_demograhics, \n",
    "    load_buurt_data, \n",
    "    willingness_to_cycle, \n",
    "    add_willingness_to_cycle_column, \n",
    "    align_by_buurt,\n",
    "    punt_buurt_code_column, \n",
    "    punt_travel_time_column,\n",
    "    demographics_population_column\n",
    ")"
   ]
  },
  {
   "cell_type": "code",
   "execution_count": 8,
   "id": "5a27f255",
   "metadata": {
    "ExecuteTime": {
     "end_time": "2025-05-14T12:13:31.465295Z",
     "start_time": "2025-05-14T12:13:31.096682Z"
    }
   },
   "outputs": [
    {
     "name": "stdout",
     "output_type": "stream",
     "text": [
      "Loaded file from CSV\n"
     ]
    }
   ],
   "source": [
    "mode = \"ebike\"\n",
    "punt1 = \"hbo_wo\"\n",
    "location = \"Education\"\n",
    "\n",
    "df_demographics = load_demograhics()\n",
    "df_punt = load_buurt_data(punt1, mode=mode)"
   ]
  },
  {
   "cell_type": "code",
   "execution_count": 9,
   "id": "38dea102",
   "metadata": {},
   "outputs": [
    {
     "data": {
      "text/html": [
       "<div>\n",
       "<style scoped>\n",
       "    .dataframe tbody tr th:only-of-type {\n",
       "        vertical-align: middle;\n",
       "    }\n",
       "\n",
       "    .dataframe tbody tr th {\n",
       "        vertical-align: top;\n",
       "    }\n",
       "\n",
       "    .dataframe thead th {\n",
       "        text-align: right;\n",
       "    }\n",
       "</style>\n",
       "<table border=\"1\" class=\"dataframe\">\n",
       "  <thead>\n",
       "    <tr style=\"text-align: right;\">\n",
       "      <th></th>\n",
       "      <th>reistijd_min</th>\n",
       "      <th>reisafstand_m</th>\n",
       "      <th>afstand_hemelsbreed_m</th>\n",
       "      <th>omrijdfactor</th>\n",
       "    </tr>\n",
       "  </thead>\n",
       "  <tbody>\n",
       "    <tr>\n",
       "      <th>count</th>\n",
       "      <td>102673.000000</td>\n",
       "      <td>102673.000000</td>\n",
       "      <td>102673.000000</td>\n",
       "      <td>102673.000000</td>\n",
       "    </tr>\n",
       "    <tr>\n",
       "      <th>mean</th>\n",
       "      <td>68.292959</td>\n",
       "      <td>24737.366669</td>\n",
       "      <td>20898.483165</td>\n",
       "      <td>1.192365</td>\n",
       "    </tr>\n",
       "    <tr>\n",
       "      <th>std</th>\n",
       "      <td>34.300424</td>\n",
       "      <td>11115.246444</td>\n",
       "      <td>9428.296607</td>\n",
       "      <td>0.080357</td>\n",
       "    </tr>\n",
       "    <tr>\n",
       "      <th>min</th>\n",
       "      <td>0.000000</td>\n",
       "      <td>86.000000</td>\n",
       "      <td>76.000000</td>\n",
       "      <td>1.000000</td>\n",
       "    </tr>\n",
       "    <tr>\n",
       "      <th>25%</th>\n",
       "      <td>46.000000</td>\n",
       "      <td>16655.000000</td>\n",
       "      <td>14001.000000</td>\n",
       "      <td>1.140000</td>\n",
       "    </tr>\n",
       "    <tr>\n",
       "      <th>50%</th>\n",
       "      <td>72.000000</td>\n",
       "      <td>26321.000000</td>\n",
       "      <td>22186.000000</td>\n",
       "      <td>1.180000</td>\n",
       "    </tr>\n",
       "    <tr>\n",
       "      <th>75%</th>\n",
       "      <td>93.000000</td>\n",
       "      <td>34092.000000</td>\n",
       "      <td>28928.000000</td>\n",
       "      <td>1.230000</td>\n",
       "    </tr>\n",
       "    <tr>\n",
       "      <th>max</th>\n",
       "      <td>2518.000000</td>\n",
       "      <td>88135.000000</td>\n",
       "      <td>35090.000000</td>\n",
       "      <td>3.560000</td>\n",
       "    </tr>\n",
       "  </tbody>\n",
       "</table>\n",
       "</div>"
      ],
      "text/plain": [
       "        reistijd_min  reisafstand_m  afstand_hemelsbreed_m   omrijdfactor\n",
       "count  102673.000000  102673.000000          102673.000000  102673.000000\n",
       "mean       68.292959   24737.366669           20898.483165       1.192365\n",
       "std        34.300424   11115.246444            9428.296607       0.080357\n",
       "min         0.000000      86.000000              76.000000       1.000000\n",
       "25%        46.000000   16655.000000           14001.000000       1.140000\n",
       "50%        72.000000   26321.000000           22186.000000       1.180000\n",
       "75%        93.000000   34092.000000           28928.000000       1.230000\n",
       "max      2518.000000   88135.000000           35090.000000       3.560000"
      ]
     },
     "execution_count": 9,
     "metadata": {},
     "output_type": "execute_result"
    }
   ],
   "source": [
    "df_punt.describe()"
   ]
  },
  {
   "cell_type": "code",
   "execution_count": 10,
   "id": "05b73808",
   "metadata": {},
   "outputs": [
    {
     "name": "stdout",
     "output_type": "stream",
     "text": [
      "Demographics and filtered dataframes do not match in length: 13026 vs 102673, ignoring missing values\n"
     ]
    }
   ],
   "source": [
    "df_punt, df_demographics = align_by_buurt(df_punt, df_demographics,)"
   ]
  },
  {
   "cell_type": "code",
   "execution_count": 11,
   "id": "602f80b2",
   "metadata": {},
   "outputs": [
    {
     "data": {
      "text/html": [
       "<div>\n",
       "<style scoped>\n",
       "    .dataframe tbody tr th:only-of-type {\n",
       "        vertical-align: middle;\n",
       "    }\n",
       "\n",
       "    .dataframe tbody tr th {\n",
       "        vertical-align: top;\n",
       "    }\n",
       "\n",
       "    .dataframe thead th {\n",
       "        text-align: right;\n",
       "    }\n",
       "</style>\n",
       "<table border=\"1\" class=\"dataframe\">\n",
       "  <thead>\n",
       "    <tr style=\"text-align: right;\">\n",
       "      <th></th>\n",
       "      <th>reistijd_min</th>\n",
       "      <th>reisafstand_m</th>\n",
       "      <th>afstand_hemelsbreed_m</th>\n",
       "      <th>omrijdfactor</th>\n",
       "    </tr>\n",
       "  </thead>\n",
       "  <tbody>\n",
       "    <tr>\n",
       "      <th>count</th>\n",
       "      <td>13026.000000</td>\n",
       "      <td>13026.000000</td>\n",
       "      <td>13026.000000</td>\n",
       "      <td>13026.000000</td>\n",
       "    </tr>\n",
       "    <tr>\n",
       "      <th>mean</th>\n",
       "      <td>69.362966</td>\n",
       "      <td>24151.194150</td>\n",
       "      <td>20441.314678</td>\n",
       "      <td>1.191539</td>\n",
       "    </tr>\n",
       "    <tr>\n",
       "      <th>std</th>\n",
       "      <td>52.724938</td>\n",
       "      <td>11250.353055</td>\n",
       "      <td>9520.951390</td>\n",
       "      <td>0.091745</td>\n",
       "    </tr>\n",
       "    <tr>\n",
       "      <th>min</th>\n",
       "      <td>0.000000</td>\n",
       "      <td>86.000000</td>\n",
       "      <td>86.000000</td>\n",
       "      <td>1.000000</td>\n",
       "    </tr>\n",
       "    <tr>\n",
       "      <th>25%</th>\n",
       "      <td>43.000000</td>\n",
       "      <td>15707.500000</td>\n",
       "      <td>13125.750000</td>\n",
       "      <td>1.130000</td>\n",
       "    </tr>\n",
       "    <tr>\n",
       "      <th>50%</th>\n",
       "      <td>69.000000</td>\n",
       "      <td>25260.500000</td>\n",
       "      <td>21527.000000</td>\n",
       "      <td>1.180000</td>\n",
       "    </tr>\n",
       "    <tr>\n",
       "      <th>75%</th>\n",
       "      <td>91.000000</td>\n",
       "      <td>33451.500000</td>\n",
       "      <td>28503.750000</td>\n",
       "      <td>1.230000</td>\n",
       "    </tr>\n",
       "    <tr>\n",
       "      <th>max</th>\n",
       "      <td>2518.000000</td>\n",
       "      <td>88135.000000</td>\n",
       "      <td>35082.000000</td>\n",
       "      <td>3.300000</td>\n",
       "    </tr>\n",
       "  </tbody>\n",
       "</table>\n",
       "</div>"
      ],
      "text/plain": [
       "       reistijd_min  reisafstand_m  afstand_hemelsbreed_m  omrijdfactor\n",
       "count  13026.000000   13026.000000           13026.000000  13026.000000\n",
       "mean      69.362966   24151.194150           20441.314678      1.191539\n",
       "std       52.724938   11250.353055            9520.951390      0.091745\n",
       "min        0.000000      86.000000              86.000000      1.000000\n",
       "25%       43.000000   15707.500000           13125.750000      1.130000\n",
       "50%       69.000000   25260.500000           21527.000000      1.180000\n",
       "75%       91.000000   33451.500000           28503.750000      1.230000\n",
       "max     2518.000000   88135.000000           35082.000000      3.300000"
      ]
     },
     "execution_count": 11,
     "metadata": {},
     "output_type": "execute_result"
    }
   ],
   "source": [
    "df_punt.describe()"
   ]
  },
  {
   "cell_type": "code",
   "execution_count": 18,
   "id": "eb4f6cdd",
   "metadata": {},
   "outputs": [
    {
     "data": {
      "text/plain": [
       "count    13026.000000\n",
       "mean         0.175193\n",
       "std          0.244368\n",
       "min          0.000010\n",
       "25%          0.033291\n",
       "50%          0.063533\n",
       "75%          0.177710\n",
       "max          1.000000\n",
       "Name: ebike_time_25, dtype: float64"
      ]
     },
     "execution_count": 18,
     "metadata": {},
     "output_type": "execute_result"
    }
   ],
   "source": [
    "willingness_to_cycle(df_punt[\"ebike_time_25\"], location=location, mode=mode).describe()"
   ]
  },
  {
   "cell_type": "code",
   "execution_count": 14,
   "id": "df0bd6d4",
   "metadata": {},
   "outputs": [
    {
     "data": {
      "text/plain": [
       "count    13026.000000\n",
       "mean      1286.623676\n",
       "std       1649.121956\n",
       "min          0.000000\n",
       "25%        195.000000\n",
       "50%        760.000000\n",
       "75%       1765.000000\n",
       "max      29265.000000\n",
       "Name: a_inw, dtype: float64"
      ]
     },
     "execution_count": 14,
     "metadata": {},
     "output_type": "execute_result"
    }
   ],
   "source": [
    "df_demographics[demographics_population_column].describe()"
   ]
  },
  {
   "cell_type": "code",
   "execution_count": 45,
   "id": "fbebd15c",
   "metadata": {},
   "outputs": [],
   "source": [
    "ebike_max = 25\n",
    "ebike_real = 21\n",
    "\n",
    "pedelec_max = 45\n",
    "pedelec_real = 28.8\n",
    "\n",
    "def interpolate_real_speed(speed):\n",
    "    if speed <= ebike_max:\n",
    "        return (speed / ebike_max) * ebike_real\n",
    "    elif speed <= pedelec_max:\n",
    "        return ebike_real + ((speed - ebike_max) / (pedelec_max - ebike_max)) * (pedelec_real - ebike_real)\n",
    "    else:\n",
    "        return pedelec_real\n",
    "\n",
    "def speed_ratio(speed):\n",
    "    interpolated = interpolate_real_speed(speed)\n",
    "    return ebike_real / interpolated\n",
    "\n",
    "col_time_base = \"ebike_time_\"\n",
    "col_willingness_base = \"ebike_willingness_\"\n",
    "col_willing_number_base = \"ebike_willingness_number_\"\n",
    "\n",
    "range_speeds = range(15, 45)\n",
    "population_willling = []\n",
    "\n",
    "for speed in range_speeds:\n",
    "    ratio = speed_ratio(speed)\n",
    "    col_time = col_time_base + str(speed)\n",
    "    col_willingness = col_willingness_base + str(speed)\n",
    "    col_willing_number = col_willing_number_base + str(speed)\n",
    "\n",
    "    df_punt[col_time] = df_punt[punt_travel_time_column] * ratio\n",
    "    df_punt[col_willingness] = willingness_to_cycle(df_punt[col_time], location=location, mode=mode)\n",
    "    df_punt[col_willing_number] = df_demographics[demographics_population_column].values * df_punt[col_willingness].values\n",
    "\n",
    "    population_willling.append(df_punt[col_willing_number].sum())"
   ]
  },
  {
   "cell_type": "code",
   "execution_count": 43,
   "id": "5bcf7277",
   "metadata": {},
   "outputs": [
    {
     "data": {
      "text/plain": [
       "0.9641873278236914"
      ]
     },
     "execution_count": 43,
     "metadata": {},
     "output_type": "execute_result"
    }
   ],
   "source": [
    "speed_ratio(27)"
   ]
  },
  {
   "cell_type": "code",
   "execution_count": 44,
   "id": "1d9eb215",
   "metadata": {},
   "outputs": [
    {
     "data": {
      "image/png": "[encoded data removed]",
      "text/plain": [
       "<Figure size 1000x600 with 2 Axes>"
      ]
     },
     "metadata": {},
     "output_type": "display_data"
    }
   ],
   "source": [
    "pop_current = population_willling[np.argwhere(np.array(range_speeds) == ebike_max)[0][0]]\n",
    "proportions = [val / pop_current for val in population_willling]\n",
    "\n",
    "plt.figure(figsize=(10, 6))\n",
    "ax1 = plt.gca()\n",
    "ax1.plot(range_speeds, population_willling, marker='o', color='b')\n",
    "ax1.set_xlabel(\"Max speed (km/h)\")\n",
    "ax1.set_ylabel(\"Population Willingness to Ebike (people)\", color='b')\n",
    "ax1.tick_params(axis='y', labelcolor='b')\n",
    "ax1.set_xticks(range_speeds)\n",
    "ax1.set_title(f\"Population Willingness to Ebike to {punt1} at Different Max Speeds\")\n",
    "ax1.set_ylim(0, max(population_willling) * 1.1)  # Adjust y-axis limit for better visibility\n",
    "ax1.grid()\n",
    "\n",
    "# Twin axis for proportion\n",
    "ax2 = ax1.twinx()\n",
    "ax2.plot(range_speeds, proportions, marker='x', color='g', linestyle='--')\n",
    "ax2.set_ylabel(\"Proportion of Current Willingness\", color='g')\n",
    "ax2.tick_params(axis='y', labelcolor='g')\n",
    "ax2.set_ylim(0, max(proportions) * 1.3)  # Adjust y-axis limit for better visibility\n",
    "\n",
    "plt.tight_layout()\n",
    "plt.savefig(f\"graphics/population_willingness_to_cycle_ebike_speeds_{punt1}.png\", dpi=300)\n",
    "plt.show()"
   ]
  },
  {
   "cell_type": "code",
   "execution_count": null,
   "id": "dd3bfca1",
   "metadata": {},
   "outputs": [],
   "source": []
  }
 ],
 "metadata": {
  "kernelspec": {
   "display_name": ".venv",
   "language": "python",
   "name": "python3"
  },
  "language_info": {
   "codemirror_mode": {
    "name": "ipython",
    "version": 3
   },
   "file_extension": ".py",
   "mimetype": "text/x-python",
   "name": "python",
   "nbconvert_exporter": "python",
   "pygments_lexer": "ipython3",
   "version": "3.11.0"
  }
 },
 "nbformat": 4,
 "nbformat_minor": 5
}
