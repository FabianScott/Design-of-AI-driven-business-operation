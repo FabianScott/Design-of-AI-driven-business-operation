{
 "cells": [
  {
   "cell_type": "code",
   "execution_count": 1,
   "id": "b454a7fe",
   "metadata": {},
   "outputs": [
    {
     "name": "stdout",
     "output_type": "stream",
     "text": [
      "Changed to c:\\Users\\20203721\\OneDrive - TU Eindhoven\\Documents\\1BM130 Design of AI driven business operations\\Design-of-AI-driven-business-operation\n"
     ]
    }
   ],
   "source": [
    "import os\n",
    "import sys\n",
    "import pandas as pd\n",
    "sys.path.append(os.path.dirname(os.path.abspath(os.getcwd())) + \"/..\")\n",
    "if os.getcwd().endswith(\"Topic1\"):\n",
    "    os.chdir(\"..\")\n",
    "    print(f\"Changed to {os.getcwd()}\")\n",
    "from codebase import get_total_inhabitants_and_willingness"
   ]
  },
  {
   "cell_type": "code",
   "execution_count": 3,
   "id": "5964a848",
   "metadata": {},
   "outputs": [
    {
     "name": "stdout",
     "output_type": "stream",
     "text": [
      "Loaded file from CSV\n"
     ]
    },
    {
     "ename": "ValueError",
     "evalue": "Unknown location",
     "output_type": "error",
     "traceback": [
      "\u001b[31m---------------------------------------------------------------------------\u001b[39m",
      "\u001b[31mValueError\u001b[39m                                Traceback (most recent call last)",
      "\u001b[36mCell\u001b[39m\u001b[36m \u001b[39m\u001b[32mIn[3]\u001b[39m\u001b[32m, line 6\u001b[39m\n\u001b[32m      3\u001b[39m mode = \u001b[33m\"\u001b[39m\u001b[33mfiets\u001b[39m\u001b[33m\"\u001b[39m \u001b[38;5;66;03m# fiets, ebike\u001b[39;00m\n\u001b[32m      4\u001b[39m location = \u001b[33m\"\u001b[39m\u001b[33mbuurt\u001b[39m\u001b[33m\"\u001b[39m \u001b[38;5;66;03m# Elementary Schools, High Schools, Universities, Train - NS, Train - Local\u001b[39;00m\n\u001b[32m----> \u001b[39m\u001b[32m6\u001b[39m total, total_willing = \u001b[43mget_total_inhabitants_and_willingness\u001b[49m\u001b[43m(\u001b[49m\u001b[43mpunt1\u001b[49m\u001b[43m=\u001b[49m\u001b[43mpunt\u001b[49m\u001b[43m,\u001b[49m\u001b[43m \u001b[49m\u001b[43mmode\u001b[49m\u001b[43m=\u001b[49m\u001b[43mmode\u001b[49m\u001b[43m,\u001b[49m\u001b[43m \u001b[49m\u001b[43mwithin_mins\u001b[49m\u001b[43m=\u001b[49m\u001b[43mwithin_mins\u001b[49m\u001b[43m,\u001b[49m\u001b[43m \u001b[49m\u001b[43mlocation\u001b[49m\u001b[43m=\u001b[49m\u001b[43mlocation\u001b[49m\u001b[43m,\u001b[49m\u001b[43m \u001b[49m\u001b[43mverbose\u001b[49m\u001b[43m=\u001b[49m\u001b[38;5;28;43;01mTrue\u001b[39;49;00m\u001b[43m)\u001b[49m\n",
      "\u001b[36mFile \u001b[39m\u001b[32mc:\\Users\\20203721\\OneDrive - TU Eindhoven\\Documents\\1BM130 Design of AI driven business operations\\Design-of-AI-driven-business-operation\\codebase\\buurt_calculations\\buurt_calculations.py:88\u001b[39m, in \u001b[36mget_total_inhabitants_and_willingness\u001b[39m\u001b[34m(punt1, mode, within_mins, location, verbose)\u001b[39m\n\u001b[32m     85\u001b[39m nl_total = df_demographics[demographics_population_column][\u001b[32m0\u001b[39m]\n\u001b[32m     87\u001b[39m total_inhabitants = get_total_inhabitants_in_buurts(df_punt, within_mins=within_mins, df_demographics=df_demographics)\n\u001b[32m---> \u001b[39m\u001b[32m88\u001b[39m total_willing_cyclists = \u001b[43mget_total_willingness_to_cycle_in_buurts\u001b[49m\u001b[43m(\u001b[49m\n\u001b[32m     89\u001b[39m \u001b[43m    \u001b[49m\u001b[43mdf_punt\u001b[49m\u001b[43m,\u001b[49m\u001b[43m \u001b[49m\n\u001b[32m     90\u001b[39m \u001b[43m    \u001b[49m\u001b[43mlocation\u001b[49m\u001b[43m=\u001b[49m\u001b[43mlocation\u001b[49m\u001b[43m,\u001b[49m\u001b[43m \u001b[49m\n\u001b[32m     91\u001b[39m \u001b[43m    \u001b[49m\u001b[43mmode\u001b[49m\u001b[43m=\u001b[49m\u001b[43mmode\u001b[49m\u001b[43m,\u001b[49m\n\u001b[32m     92\u001b[39m \u001b[43m    \u001b[49m\u001b[43mwithin_mins\u001b[49m\u001b[43m=\u001b[49m\u001b[43mwithin_mins\u001b[49m\u001b[43m,\u001b[49m\u001b[43m \u001b[49m\n\u001b[32m     93\u001b[39m \u001b[43m    \u001b[49m\u001b[43mdf_demographics\u001b[49m\u001b[43m=\u001b[49m\u001b[43mdf_demographics\u001b[49m\n\u001b[32m     94\u001b[39m \u001b[43m    \u001b[49m\u001b[43m)\u001b[49m\n\u001b[32m     96\u001b[39m \u001b[38;5;28;01mif\u001b[39;00m verbose:\n\u001b[32m     97\u001b[39m     \u001b[38;5;28mprint\u001b[39m(\u001b[33mf\u001b[39m\u001b[33m\"\u001b[39m\u001b[33mTotal inhabitants within \u001b[39m\u001b[38;5;132;01m{\u001b[39;00mwithin_mins\u001b[38;5;132;01m}\u001b[39;00m\u001b[33m minutes of \u001b[39m\u001b[38;5;132;01m{\u001b[39;00mpunt1\u001b[38;5;132;01m}\u001b[39;00m\u001b[33m from buurt: \u001b[39m\u001b[38;5;132;01m{\u001b[39;00mtotal_inhabitants\u001b[38;5;132;01m}\u001b[39;00m\u001b[33m of \u001b[39m\u001b[38;5;132;01m{\u001b[39;00mnl_total\u001b[38;5;132;01m}\u001b[39;00m\u001b[33m = \u001b[39m\u001b[38;5;132;01m{\u001b[39;00mtotal_inhabitants/nl_total\u001b[38;5;132;01m:\u001b[39;00m\u001b[33m.2%\u001b[39m\u001b[38;5;132;01m}\u001b[39;00m\u001b[33m of the Netherlands\u001b[39m\u001b[33m\"\u001b[39m)\n",
      "\u001b[36mFile \u001b[39m\u001b[32mc:\\Users\\20203721\\OneDrive - TU Eindhoven\\Documents\\1BM130 Design of AI driven business operations\\Design-of-AI-driven-business-operation\\codebase\\buurt_calculations\\buurt_calculations.py:47\u001b[39m, in \u001b[36mget_total_willingness_to_cycle_in_buurts\u001b[39m\u001b[34m(df, location, within_mins, mode, df_demographics)\u001b[39m\n\u001b[32m     45\u001b[39m \u001b[38;5;66;03m# Get the unique buurt codes from the filtered dataframe\u001b[39;00m\n\u001b[32m     46\u001b[39m buurt_ids = get_buurt_ids(df_filtered)\n\u001b[32m---> \u001b[39m\u001b[32m47\u001b[39m df_filtered = \u001b[43madd_willingness_to_cycle_column\u001b[49m\u001b[43m(\u001b[49m\u001b[43mdf_filtered\u001b[49m\u001b[43m,\u001b[49m\u001b[43m \u001b[49m\u001b[43mlocation\u001b[49m\u001b[43m,\u001b[49m\u001b[43m \u001b[49m\u001b[43mmode\u001b[49m\u001b[43m=\u001b[49m\u001b[43mmode\u001b[49m\u001b[43m)\u001b[49m\n\u001b[32m     48\u001b[39m \u001b[38;5;66;03m# Filter the demographics dataframe to only include the relevant buurt codes\u001b[39;00m\n\u001b[32m     49\u001b[39m df_location = df_demographics[df_demographics[demographics_buurt_code_column].astype(\u001b[38;5;28mstr\u001b[39m).isin(buurt_ids)]\n",
      "\u001b[36mFile \u001b[39m\u001b[32mc:\\Users\\20203721\\OneDrive - TU Eindhoven\\Documents\\1BM130 Design of AI driven business operations\\Design-of-AI-driven-business-operation\\codebase\\buurt_calculations\\buurt_calculations.py:27\u001b[39m, in \u001b[36madd_willingness_to_cycle_column\u001b[39m\u001b[34m(df, location, mode)\u001b[39m\n\u001b[32m     26\u001b[39m \u001b[38;5;28;01mdef\u001b[39;00m\u001b[38;5;250m \u001b[39m\u001b[34madd_willingness_to_cycle_column\u001b[39m(df: pd.DataFrame, location: \u001b[38;5;28mstr\u001b[39m, mode=\u001b[33m\"\u001b[39m\u001b[33mfiets\u001b[39m\u001b[33m\"\u001b[39m) -> pd.DataFrame:\n\u001b[32m---> \u001b[39m\u001b[32m27\u001b[39m     willingness_array = \u001b[43mwillingness_to_cycle\u001b[49m\u001b[43m(\u001b[49m\u001b[43mdf\u001b[49m\u001b[43m[\u001b[49m\u001b[43mpunt_travel_time_column\u001b[49m\u001b[43m]\u001b[49m\u001b[43m,\u001b[49m\u001b[43m \u001b[49m\u001b[43mlocation\u001b[49m\u001b[43m,\u001b[49m\u001b[43m \u001b[49m\u001b[43mmode\u001b[49m\u001b[43m=\u001b[49m\u001b[43mmode\u001b[49m\u001b[43m)\u001b[49m\n\u001b[32m     28\u001b[39m     df_filtered = df.copy()\n\u001b[32m     29\u001b[39m     df_filtered[willingness_to_cycle_column] = willingness_array\n",
      "\u001b[36mFile \u001b[39m\u001b[32mc:\\Users\\20203721\\OneDrive - TU Eindhoven\\Documents\\1BM130 Design of AI driven business operations\\Design-of-AI-driven-business-operation\\codebase\\buurt_calculations\\willingness.py:20\u001b[39m, in \u001b[36mwillingness_to_cycle\u001b[39m\u001b[34m(tij, location, mode, param_path)\u001b[39m\n\u001b[32m     17\u001b[39m     model_params = json.load(f)\n\u001b[32m     19\u001b[39m \u001b[38;5;28;01mif\u001b[39;00m location \u001b[38;5;129;01mnot\u001b[39;00m \u001b[38;5;129;01min\u001b[39;00m model_params:\n\u001b[32m---> \u001b[39m\u001b[32m20\u001b[39m     \u001b[38;5;28;01mraise\u001b[39;00m \u001b[38;5;167;01mValueError\u001b[39;00m(\u001b[33m\"\u001b[39m\u001b[33mUnknown location\u001b[39m\u001b[33m\"\u001b[39m)\n\u001b[32m     22\u001b[39m a, b = model_params[location]\n\u001b[32m     23\u001b[39m F_ij = \u001b[32m1\u001b[39m / (\u001b[32m1\u001b[39m + np.exp(a + b * np.log(tij + \u001b[32m1e-10\u001b[39m)))\n",
      "\u001b[31mValueError\u001b[39m: Unknown location"
     ]
    }
   ],
   "source": [
    "within_mins = 50\n",
    "punt = \"trein\" # ibis, hbo_wo, mbo, basis, highschool, bus, trein\n",
    "mode = \"fiets\" # fiets, ebike\n",
    "location = \"buurt\" # Elementary Schools, High Schools, Universities, Train - NS, Train - Local\n",
    "\n",
    "total, total_willing = get_total_inhabitants_and_willingness(punt1=punt, mode=mode, within_mins=within_mins, location=location, verbose=True)"
   ]
  },
  {
   "cell_type": "code",
   "execution_count": null,
   "id": "2bc49e8c",
   "metadata": {},
   "outputs": [],
   "source": []
  }
 ],
 "metadata": {
  "kernelspec": {
   "display_name": "Python 3",
   "language": "python",
   "name": "python3"
  },
  "language_info": {
   "codemirror_mode": {
    "name": "ipython",
    "version": 3
   },
   "file_extension": ".py",
   "mimetype": "text/x-python",
   "name": "python",
   "nbconvert_exporter": "python",
   "pygments_lexer": "ipython3",
   "version": "3.11.11"
  }
 },
 "nbformat": 4,
 "nbformat_minor": 5
}
