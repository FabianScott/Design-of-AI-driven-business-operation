{
 "cells": [
  {
   "cell_type": "code",
   "execution_count": 1,
   "id": "4dc5e0f4",
   "metadata": {},
   "outputs": [
    {
     "name": "stdout",
     "output_type": "stream",
     "text": [
      "Changed to c:\\Users\\toell\\Documents\\GitHub\\Design-of-AI-driven-business-operation\n"
     ]
    }
   ],
   "source": [
    "import os\n",
    "import json\n",
    "import geopandas as gpd\n",
    "import matplotlib.pyplot as plt\n",
    "import pandas as pd\n",
    "import numpy as np\n",
    "if os.getcwd().endswith(\"Topic1\"):\n",
    "    os.chdir(\"..\")\n",
    "    print(f\"Changed to {os.getcwd()}\")"
   ]
  },
  {
   "cell_type": "code",
   "execution_count": 2,
   "id": "391ce0fd",
   "metadata": {},
   "outputs": [],
   "source": [
    "demographics_population_column = \"a_inw\"\n",
    "demographics_buurt_code_column = \"gwb_code\"\n",
    "punt_travel_time_column = 'reistijd_min'\n",
    "punt_buurt_code_column = 'bu_code'\n",
    "willingness_to_cycle_column = 'willingness_to_cycle_percentage'"
   ]
  },
  {
   "cell_type": "code",
   "execution_count": 3,
   "id": "ae4e8908",
   "metadata": {},
   "outputs": [],
   "source": [
    "def willingness_to_cycle(tij, location):\n",
    "    with open(\"data/cycle_willingness/fiets.json\", \"r\") as f:\n",
    "        model_params = json.load(f)\n",
    "\n",
    "    if location not in model_params:\n",
    "        raise ValueError(\"Unknown location\")\n",
    "    \n",
    "    a, b = model_params[location]\n",
    "    F_ij = 1 / (1 + np.exp(a + b * np.log(tij + 1e-10)))\n",
    "    \n",
    "    return F_ij"
   ]
  },
  {
   "cell_type": "code",
   "execution_count": 28,
   "id": "c3861f13",
   "metadata": {},
   "outputs": [],
   "source": [
    "def filter_by_time(df, max_time):\n",
    "    \"\"\"Filters by travel time and removes duplicates based on bu_code, keeping the smallest value.\"\"\"\n",
    "    df_filtered = df[df['reistijd_min'] <= max_time]\n",
    "    df_filtered = df_filtered.sort_values(by='reistijd_min', ascending=True, )\n",
    "    df_filtered[punt_buurt_code_column] = df_filtered[punt_buurt_code_column].astype(str)\n",
    "    df_filtered = df_filtered.drop_duplicates(subset=['bu_code'], keep='first', )\n",
    "    return df_filtered"
   ]
  },
  {
   "cell_type": "code",
   "execution_count": 5,
   "id": "cdaf1153",
   "metadata": {},
   "outputs": [],
   "source": [
    "def load_demograhics():\n",
    "    demographics_filename = \"data/demographics/kwb-2023.csv\"\n",
    "\n",
    "    if os.path.exists(demographics_filename):\n",
    "        df_demographics = pd.read_csv(demographics_filename, sep=\";\", low_memory=False)\n",
    "        print(\"Loaded demographics from CSV\")\n",
    "    else:\n",
    "        df_demographics = pd.read_excel(\"data/demographics/kwb-2023.xlsx\", )\n",
    "        df_demographics.to_csv(demographics_filename, sep=\";\", index=False)\n",
    "        print(\"Loaded demographics from Excel and saved to CSV\")\n",
    "\n",
    "    return df_demographics"
   ]
  },
  {
   "cell_type": "code",
   "execution_count": 6,
   "id": "4c4b98bc",
   "metadata": {},
   "outputs": [],
   "source": [
    "def get_buurt_ids(df):\n",
    "    df_buurt = df[[punt_buurt_code_column]].astype(str)\n",
    "    return df_buurt.values.flatten().tolist()"
   ]
  },
  {
   "cell_type": "code",
   "execution_count": 16,
   "id": "77370e49",
   "metadata": {},
   "outputs": [],
   "source": [
    "def get_total_inhabitants_in_buurts(df, within_mins, df_demographics=None):\n",
    "    df_filtered = filter_by_time(df, within_mins)\n",
    "    df_demographics = load_demograhics() if df_demographics is None else df_demographics\n",
    "\n",
    "    buurt_ids = get_buurt_ids(df_filtered)\n",
    "    df_location = df_demographics[df_demographics[demographics_buurt_code_column].astype(str).isin(buurt_ids)]\n",
    "    total_inhabitants = df_location[demographics_population_column].sum()\n",
    "    return total_inhabitants"
   ]
  },
  {
   "cell_type": "code",
   "execution_count": 17,
   "id": "b2ecd6c7",
   "metadata": {},
   "outputs": [],
   "source": [
    "def add_willingness_to_cycle_column(df, location,):\n",
    "    willingness_array = willingness_to_cycle(df[punt_travel_time_column], location)\n",
    "    df_filtered = df.copy()\n",
    "    df_filtered[willingness_to_cycle_column] = willingness_array\n",
    "    return df_filtered"
   ]
  },
  {
   "cell_type": "code",
   "execution_count": 18,
   "id": "39ae83c7",
   "metadata": {},
   "outputs": [],
   "source": [
    "def get_total_willingness_to_cycle_in_buurts(df, location, within_mins, df_demographics=None, ):\n",
    "    df_demographics = load_demograhics() if df_demographics is None else df_demographics\n",
    "    df_filtered = filter_by_time(df, within_mins)\n",
    "    # Get the unique buurt codes from the filtered dataframe\n",
    "    buurt_ids = get_buurt_ids(df_filtered)\n",
    "    df_filtered = add_willingness_to_cycle_column(df_filtered, location,)\n",
    "    # Filter the demographics dataframe to only include the relevant buurt codes\n",
    "    df_location = df_demographics[df_demographics[demographics_buurt_code_column].astype(str).isin(buurt_ids)]\n",
    "\n",
    "    if len(df_location) != len(df_filtered):\n",
    "        print(f\"Demographics and filtered dataframes do not match in length: {len(df_location)} vs {len(df_filtered)}, ignoring missing values\")\n",
    "    \n",
    "    s1 = set(df_filtered[punt_buurt_code_column].unique())\n",
    "    s2 = set(df_location[demographics_buurt_code_column].unique())\n",
    "   # Only keep the rows in both dataframes that have matching buurt codes\n",
    "    df_filtered = df_filtered[df_filtered[punt_buurt_code_column].isin(s1.intersection(s2))]\n",
    "    df_location = df_location[df_location[demographics_buurt_code_column].isin(s1.intersection(s2))]\n",
    "    # Sort the dataframes by the buurt code to ensure they match\n",
    "    df_filtered = df_filtered.sort_values(by=punt_buurt_code_column)\n",
    "    df_location = df_location.sort_values(by=demographics_buurt_code_column)\n",
    "\n",
    "    total_willingness = int((df_filtered[willingness_to_cycle_column].values * df_location[demographics_population_column].values).sum())\n",
    "    return total_willingness"
   ]
  },
  {
   "cell_type": "code",
   "execution_count": null,
   "id": "c38a1fdb",
   "metadata": {},
   "outputs": [],
   "source": [
    "\n",
    "def get_total_inhabitants_and_willingness(punt1, mode, within_mins, location=\"Elementary Schools\", verbose=False):\n",
    "    \"\"\"\n",
    "    Function to load the demographics data, filter the punt data by travel time,\n",
    "    and calculate the total number of inhabitants and willingness to cycle within the specified time.\n",
    "\n",
    "    Args:\n",
    "        punt1 (str): The first point of interest, not \"buurt\". Second one is always \"buurt\".\n",
    "        mode (str): The mode of transport, one of \"fiets\" or \"ebike\"\n",
    "        within_mins (int): The maximum travel time in minutes.\n",
    "        location (str): The location for which to calculate willingness to cycle.\n",
    "        verbose (bool): If True, prints additional information.\n",
    "    Returns:\n",
    "        total_inhabitants (int): The total number of inhabitants within the specified time.\n",
    "        total_willing_cyclists (int): The total number of willing cyclists within the specified time.\n",
    "    \"\"\"\n",
    "    punt2 = \"buurt\"\n",
    "    df_demographics = load_demograhics()\n",
    "    df_punt = pd.read_csv(f\"data/02_punt_tot_punt_analyse/{punt1}_naar_{punt2}_{mode}.csv\", sep=\";\")\n",
    "    nl_total = df_demographics[demographics_population_column][0]\n",
    "    \n",
    "    total_inhabitants = get_total_inhabitants_in_buurts(df_punt, within_mins=within_mins, df_demographics=df_demographics)\n",
    "    total_willing_cyclists = get_total_willingness_to_cycle_in_buurts(df_punt, location=location, within_mins=within_mins, df_demographics=df_demographics)\n",
    "    \n",
    "    if verbose:\n",
    "        print(f\"Total inhabitants within {within_mins} minutes of {punt1} from {punt2}: {total_inhabitants} of {nl_total} = {total_inhabitants/nl_total:.2%} of the Netherlands\")\n",
    "        print(f\"Total willingness to cycle of those: {total_willing_cyclists} of {total_inhabitants} = {total_willing_cyclists/total_inhabitants:.2%}\")\n",
    "    \n",
    "    return total_inhabitants, total_willing_cyclists"
   ]
  },
  {
   "cell_type": "code",
   "execution_count": 33,
   "id": "4dac0e50",
   "metadata": {},
   "outputs": [
    {
     "name": "stdout",
     "output_type": "stream",
     "text": [
      "Loaded demographics from CSV\n",
      "Total inhabitants within 5 minutes of hbo_wo from buurt: 956480 of 17811291 = 5.37% of the Netherlands\n",
      "Total willingness to cycle of those: 917525 of 956480 = 95.93%\n"
     ]
    }
   ],
   "source": [
    "within_mins = 5\n",
    "punt = \"hbo_wo\" # ibis, hbo_wo, mbo, basis, highschool, bus, trein\n",
    "mode = \"fiets\" # fiets, ebike\n",
    "location = \"Universities\" # Elementary Schools, High Schools, Universities, Train - NS, Train - Local\n",
    "\n",
    "total, total_willing = get_total_inhabitants_and_willingness(punt1=punt, mode=mode, within_mins=within_mins, location=location, verbose=True)"
   ]
  }
 ],
 "metadata": {
  "kernelspec": {
   "display_name": ".venv",
   "language": "python",
   "name": "python3"
  },
  "language_info": {
   "codemirror_mode": {
    "name": "ipython",
    "version": 3
   },
   "file_extension": ".py",
   "mimetype": "text/x-python",
   "name": "python",
   "nbconvert_exporter": "python",
   "pygments_lexer": "ipython3",
   "version": "3.11.0"
  }
 },
 "nbformat": 4,
 "nbformat_minor": 5
}
