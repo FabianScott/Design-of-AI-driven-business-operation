{
 "cells": [
  {
   "cell_type": "code",
   "execution_count": null,
   "id": "4dc5e0f4",
   "metadata": {},
   "outputs": [
    {
     "name": "stdout",
     "output_type": "stream",
     "text": [
      "Changed to c:\\Users\\toell\\Documents\\GitHub\\Design-of-AI-driven-business-operation\n",
      "Current working directory: c:\\Users\\toell\\Documents\\GitHub\\Design-of-AI-driven-business-operation\n"
     ]
    }
   ],
   "source": [
    "import os\n",
    "import sys\n",
    "sys.path.append(os.path.dirname(os.path.abspath(os.getcwd())) + \"/..\")\n",
    "if os.getcwd().endswith(\"Topic1\"):\n",
    "    os.chdir(\"..\")\n",
    "    print(f\"Changed to {os.getcwd()}\")\n",
    "from codebase import get_total_inhabitants_and_willingness"
   ]
  },
  {
   "cell_type": "code",
   "execution_count": 3,
   "id": "4dac0e50",
   "metadata": {},
   "outputs": [
    {
     "name": "stdout",
     "output_type": "stream",
     "text": [
      "Loaded demographics from CSV\n",
      "Total inhabitants within 50 minutes of hbo_wo from buurt: 9843955 of 17811291 = 55.27% of the Netherlands\n",
      "Total willingness to cycle of those: 3655316 of 9843955 = 37.13%\n"
     ]
    }
   ],
   "source": [
    "within_mins = 50\n",
    "punt = \"hbo_wo\" # ibis, hbo_wo, mbo, basis, highschool, bus, trein\n",
    "mode = \"fiets\" # fiets, ebike\n",
    "location = \"Universities\" # Elementary Schools, High Schools, Universities, Train - NS, Train - Local\n",
    "\n",
    "total, total_willing = get_total_inhabitants_and_willingness(punt1=punt, mode=mode, within_mins=within_mins, location=location, verbose=True)"
   ]
  }
 ],
 "metadata": {
  "kernelspec": {
   "display_name": ".venv",
   "language": "python",
   "name": "python3"
  },
  "language_info": {
   "codemirror_mode": {
    "name": "ipython",
    "version": 3
   },
   "file_extension": ".py",
   "mimetype": "text/x-python",
   "name": "python",
   "nbconvert_exporter": "python",
   "pygments_lexer": "ipython3",
   "version": "3.11.0"
  }
 },
 "nbformat": 4,
 "nbformat_minor": 5
}
