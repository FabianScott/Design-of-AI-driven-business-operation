{
 "cells": [
  {
   "cell_type": "code",
   "id": "4dc5e0f4",
   "metadata": {
    "ExecuteTime": {
     "end_time": "2025-05-10T09:25:44.662635Z",
     "start_time": "2025-05-10T09:25:44.650306Z"
    }
   },
   "source": [
    "import os\n",
    "import sys\n",
    "import pandas as pd\n",
    "sys.path.append(os.path.dirname(os.path.abspath(os.getcwd())) + \"/..\")\n",
    "if os.getcwd().endswith(\"Topic1\"):\n",
    "    os.chdir(\"..\")\n",
    "    print(f\"Changed to {os.getcwd()}\")\n",
    "\n",
    "from codebase import get_total_inhabitants_and_willingness"
   ],
   "outputs": [],
   "execution_count": 14
  },
  {
   "metadata": {
    "ExecuteTime": {
     "end_time": "2025-05-10T09:25:44.850383Z",
     "start_time": "2025-05-10T09:25:44.846930Z"
    }
   },
   "cell_type": "code",
   "source": "",
   "id": "702671ef0d3d0e81",
   "outputs": [],
   "execution_count": null
  },
  {
   "cell_type": "code",
   "id": "4dac0e50",
   "metadata": {
    "ExecuteTime": {
     "end_time": "2025-05-10T09:25:45.000579Z",
     "start_time": "2025-05-10T09:25:44.979884Z"
    }
   },
   "source": [
    "within_mins = 50\n",
    "punt = \"ibis\" # ibis, hbo_wo, mbo, basis, highschool, bus, trein\n",
    "mode = \"ebike\" # fiets, ebike\n",
    "location = \"Education\" # Elementary Schools, High Schools, Universities, Train - NS, Train - Local\n",
    "\n",
    "total, total_willing = get_total_inhabitants_and_willingness(punt1=punt, mode=mode, within_mins=within_mins, location=location, verbose=True)"
   ],
   "outputs": [
    {
     "ename": "TypeError",
     "evalue": "load_excel() got an unexpected keyword argument 'sep'",
     "output_type": "error",
     "traceback": [
      "\u001B[1;31m---------------------------------------------------------------------------\u001B[0m",
      "\u001B[1;31mTypeError\u001B[0m                                 Traceback (most recent call last)",
      "Cell \u001B[1;32mIn[15], line 6\u001B[0m\n\u001B[0;32m      3\u001B[0m mode \u001B[38;5;241m=\u001B[39m \u001B[38;5;124m\"\u001B[39m\u001B[38;5;124mebike\u001B[39m\u001B[38;5;124m\"\u001B[39m \u001B[38;5;66;03m# fiets, ebike\u001B[39;00m\n\u001B[0;32m      4\u001B[0m location \u001B[38;5;241m=\u001B[39m \u001B[38;5;124m\"\u001B[39m\u001B[38;5;124mEducation\u001B[39m\u001B[38;5;124m\"\u001B[39m \u001B[38;5;66;03m# Elementary Schools, High Schools, Universities, Train - NS, Train - Local\u001B[39;00m\n\u001B[1;32m----> 6\u001B[0m total, total_willing \u001B[38;5;241m=\u001B[39m \u001B[43mget_total_inhabitants_and_willingness\u001B[49m\u001B[43m(\u001B[49m\u001B[43mpunt1\u001B[49m\u001B[38;5;241;43m=\u001B[39;49m\u001B[43mpunt\u001B[49m\u001B[43m,\u001B[49m\u001B[43m \u001B[49m\u001B[43mmode\u001B[49m\u001B[38;5;241;43m=\u001B[39;49m\u001B[43mmode\u001B[49m\u001B[43m,\u001B[49m\u001B[43m \u001B[49m\u001B[43mwithin_mins\u001B[49m\u001B[38;5;241;43m=\u001B[39;49m\u001B[43mwithin_mins\u001B[49m\u001B[43m,\u001B[49m\u001B[43m \u001B[49m\u001B[43mlocation\u001B[49m\u001B[38;5;241;43m=\u001B[39;49m\u001B[43mlocation\u001B[49m\u001B[43m,\u001B[49m\u001B[43m \u001B[49m\u001B[43mverbose\u001B[49m\u001B[38;5;241;43m=\u001B[39;49m\u001B[38;5;28;43;01mTrue\u001B[39;49;00m\u001B[43m)\u001B[49m\n",
      "File \u001B[1;32m~\\PycharmProjects\\TUE\\Design-of-AI-driven-business-operation\\codebase\\buurt_calculations\\buurt_calculations.py:83\u001B[0m, in \u001B[0;36mget_total_inhabitants_and_willingness\u001B[1;34m(punt1, mode, within_mins, location, verbose)\u001B[0m\n\u001B[0;32m     67\u001B[0m \u001B[38;5;28;01mdef\u001B[39;00m\u001B[38;5;250m \u001B[39m\u001B[38;5;21mget_total_inhabitants_and_willingness\u001B[39m(punt1, mode, within_mins, location\u001B[38;5;241m=\u001B[39m\u001B[38;5;124m\"\u001B[39m\u001B[38;5;124mElementary Schools\u001B[39m\u001B[38;5;124m\"\u001B[39m, verbose\u001B[38;5;241m=\u001B[39m\u001B[38;5;28;01mFalse\u001B[39;00m):\n\u001B[0;32m     68\u001B[0m \u001B[38;5;250m    \u001B[39m\u001B[38;5;124;03m\"\"\"\u001B[39;00m\n\u001B[0;32m     69\u001B[0m \u001B[38;5;124;03m    Function to load the demographics data, filter the punt data by travel time,\u001B[39;00m\n\u001B[0;32m     70\u001B[0m \u001B[38;5;124;03m    and calculate the total number of inhabitants and willingness to cycle within the specified time.\u001B[39;00m\n\u001B[1;32m   (...)\u001B[0m\n\u001B[0;32m     80\u001B[0m \u001B[38;5;124;03m        total_willing_cyclists (int): The total number of willing cyclists within the specified time.\u001B[39;00m\n\u001B[0;32m     81\u001B[0m \u001B[38;5;124;03m    \"\"\"\u001B[39;00m\n\u001B[1;32m---> 83\u001B[0m     df_demographics \u001B[38;5;241m=\u001B[39m \u001B[43mload_demograhics\u001B[49m\u001B[43m(\u001B[49m\u001B[43m)\u001B[49m\n\u001B[0;32m     84\u001B[0m     df_punt \u001B[38;5;241m=\u001B[39m load_buurt_data(punt1, mode\u001B[38;5;241m=\u001B[39mmode)\n\u001B[0;32m     85\u001B[0m     nl_total \u001B[38;5;241m=\u001B[39m df_demographics[demographics_population_column][\u001B[38;5;241m0\u001B[39m]\n",
      "File \u001B[1;32m~\\PycharmProjects\\TUE\\Design-of-AI-driven-business-operation\\codebase\\load_data\\load_demographics.py:6\u001B[0m, in \u001B[0;36mload_demograhics\u001B[1;34m()\u001B[0m\n\u001B[0;32m      5\u001B[0m \u001B[38;5;28;01mdef\u001B[39;00m\u001B[38;5;250m \u001B[39m\u001B[38;5;21mload_demograhics\u001B[39m():\n\u001B[1;32m----> 6\u001B[0m     \u001B[38;5;28;01mreturn\u001B[39;00m \u001B[43mload_excel\u001B[49m\u001B[43m(\u001B[49m\u001B[38;5;124;43m\"\u001B[39;49m\u001B[38;5;124;43mC:/Users/david/PycharmProjects/TUE/Design-of-AI-driven-business-operation/data/demographics/kwb-2023.xlsx\u001B[39;49m\u001B[38;5;124;43m\"\u001B[39;49m\u001B[43m,\u001B[49m\u001B[43m \u001B[49m\u001B[43msep\u001B[49m\u001B[38;5;241;43m=\u001B[39;49m\u001B[38;5;124;43m\"\u001B[39;49m\u001B[38;5;124;43m;\u001B[39;49m\u001B[38;5;124;43m\"\u001B[39;49m\u001B[43m,\u001B[49m\u001B[43m \u001B[49m\u001B[43mlow_memory\u001B[49m\u001B[38;5;241;43m=\u001B[39;49m\u001B[38;5;28;43;01mFalse\u001B[39;49;00m\u001B[43m)\u001B[49m\n",
      "\u001B[1;31mTypeError\u001B[0m: load_excel() got an unexpected keyword argument 'sep'"
     ]
    }
   ],
   "execution_count": 15
  },
  {
   "cell_type": "code",
   "id": "fd792ba7",
   "metadata": {
    "ExecuteTime": {
     "end_time": "2025-05-10T09:25:45.113192Z",
     "start_time": "2025-05-10T09:25:45.110026Z"
    }
   },
   "source": "",
   "outputs": [],
   "execution_count": null
  },
  {
   "cell_type": "code",
   "execution_count": null,
   "id": "2e1be6c2",
   "metadata": {},
   "outputs": [],
   "source": []
  }
 ],
 "metadata": {
  "kernelspec": {
   "display_name": ".venv",
   "language": "python",
   "name": "python3"
  },
  "language_info": {
   "codemirror_mode": {
    "name": "ipython",
    "version": 3
   },
   "file_extension": ".py",
   "mimetype": "text/x-python",
   "name": "python",
   "nbconvert_exporter": "python",
   "pygments_lexer": "ipython3",
   "version": "3.11.0"
  }
 },
 "nbformat": 4,
 "nbformat_minor": 5
}
