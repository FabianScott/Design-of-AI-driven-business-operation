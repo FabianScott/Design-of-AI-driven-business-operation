{
 "cells": [
  {
   "cell_type": "code",
   "execution_count": null,
   "id": "initial_id",
   "metadata": {
    "collapsed": true
   },
   "outputs": [],
   "source": [
    ""
   ]
  },
  {
   "metadata": {
    "ExecuteTime": {
     "end_time": "2025-05-10T09:45:18.688206Z",
     "start_time": "2025-05-10T09:45:01.934765Z"
    }
   },
   "cell_type": "code",
   "source": "pip install pyarrow",
   "id": "58543845123ffe99",
   "outputs": [
    {
     "name": "stdout",
     "output_type": "stream",
     "text": [
      "Collecting pyarrow\n",
      "  Downloading pyarrow-20.0.0-cp312-cp312-win_amd64.whl.metadata (3.4 kB)\n",
      "Downloading pyarrow-20.0.0-cp312-cp312-win_amd64.whl (25.7 MB)\n",
      "   ---------------------------------------- 0.0/25.7 MB ? eta -:--:--\n",
      "    --------------------------------------- 0.5/25.7 MB 5.7 MB/s eta 0:00:05\n",
      "   - -------------------------------------- 1.0/25.7 MB 3.4 MB/s eta 0:00:08\n",
      "   -- ------------------------------------- 1.6/25.7 MB 3.7 MB/s eta 0:00:07\n",
      "   --- ------------------------------------ 2.1/25.7 MB 3.1 MB/s eta 0:00:08\n",
      "   ---- ----------------------------------- 2.6/25.7 MB 2.8 MB/s eta 0:00:09\n",
      "   ---- ----------------------------------- 3.1/25.7 MB 2.6 MB/s eta 0:00:09\n",
      "   ----- ---------------------------------- 3.7/25.7 MB 2.7 MB/s eta 0:00:09\n",
      "   ------ --------------------------------- 4.5/25.7 MB 2.7 MB/s eta 0:00:08\n",
      "   ------- -------------------------------- 5.0/25.7 MB 2.8 MB/s eta 0:00:08\n",
      "   -------- ------------------------------- 5.5/25.7 MB 2.8 MB/s eta 0:00:08\n",
      "   --------- ------------------------------ 6.0/25.7 MB 2.7 MB/s eta 0:00:08\n",
      "   ---------- ----------------------------- 6.6/25.7 MB 2.7 MB/s eta 0:00:08\n",
      "   ----------- ---------------------------- 7.1/25.7 MB 2.6 MB/s eta 0:00:08\n",
      "   ----------- ---------------------------- 7.6/25.7 MB 2.6 MB/s eta 0:00:07\n",
      "   ------------ --------------------------- 8.1/25.7 MB 2.6 MB/s eta 0:00:07\n",
      "   ------------- -------------------------- 8.4/25.7 MB 2.6 MB/s eta 0:00:07\n",
      "   ------------- -------------------------- 8.7/25.7 MB 2.5 MB/s eta 0:00:07\n",
      "   ------------- -------------------------- 8.9/25.7 MB 2.4 MB/s eta 0:00:07\n",
      "   -------------- ------------------------- 9.4/25.7 MB 2.4 MB/s eta 0:00:07\n",
      "   --------------- ------------------------ 9.7/25.7 MB 2.4 MB/s eta 0:00:07\n",
      "   --------------- ------------------------ 10.2/25.7 MB 2.3 MB/s eta 0:00:07\n",
      "   ---------------- ----------------------- 10.5/25.7 MB 2.3 MB/s eta 0:00:07\n",
      "   ----------------- ---------------------- 11.0/25.7 MB 2.3 MB/s eta 0:00:07\n",
      "   ----------------- ---------------------- 11.5/25.7 MB 2.3 MB/s eta 0:00:07\n",
      "   ------------------ --------------------- 11.8/25.7 MB 2.3 MB/s eta 0:00:07\n",
      "   ------------------ --------------------- 12.1/25.7 MB 2.3 MB/s eta 0:00:06\n",
      "   ------------------- -------------------- 12.3/25.7 MB 2.2 MB/s eta 0:00:07\n",
      "   ------------------- -------------------- 12.3/25.7 MB 2.2 MB/s eta 0:00:07\n",
      "   ------------------- -------------------- 12.6/25.7 MB 2.1 MB/s eta 0:00:07\n",
      "   -------------------- ------------------- 12.8/25.7 MB 2.1 MB/s eta 0:00:07\n",
      "   -------------------- ------------------- 13.1/25.7 MB 2.1 MB/s eta 0:00:07\n",
      "   -------------------- ------------------- 13.4/25.7 MB 2.0 MB/s eta 0:00:07\n",
      "   --------------------- ------------------ 13.6/25.7 MB 2.0 MB/s eta 0:00:07\n",
      "   --------------------- ------------------ 13.9/25.7 MB 2.0 MB/s eta 0:00:06\n",
      "   ---------------------- ----------------- 14.2/25.7 MB 2.0 MB/s eta 0:00:06\n",
      "   ---------------------- ----------------- 14.4/25.7 MB 2.0 MB/s eta 0:00:06\n",
      "   ----------------------- ---------------- 14.9/25.7 MB 1.9 MB/s eta 0:00:06\n",
      "   ----------------------- ---------------- 15.2/25.7 MB 1.9 MB/s eta 0:00:06\n",
      "   ------------------------ --------------- 15.5/25.7 MB 1.9 MB/s eta 0:00:06\n",
      "   ------------------------ --------------- 15.7/25.7 MB 1.9 MB/s eta 0:00:06\n",
      "   ------------------------- -------------- 16.3/25.7 MB 1.9 MB/s eta 0:00:05\n",
      "   ------------------------- -------------- 16.5/25.7 MB 1.9 MB/s eta 0:00:05\n",
      "   -------------------------- ------------- 17.0/25.7 MB 1.9 MB/s eta 0:00:05\n",
      "   -------------------------- ------------- 17.3/25.7 MB 1.9 MB/s eta 0:00:05\n",
      "   --------------------------- ------------ 17.6/25.7 MB 1.9 MB/s eta 0:00:05\n",
      "   ---------------------------- ----------- 18.1/25.7 MB 1.9 MB/s eta 0:00:05\n",
      "   ---------------------------- ----------- 18.4/25.7 MB 1.9 MB/s eta 0:00:04\n",
      "   ----------------------------- ---------- 18.9/25.7 MB 1.9 MB/s eta 0:00:04\n",
      "   ------------------------------ --------- 19.4/25.7 MB 1.9 MB/s eta 0:00:04\n",
      "   ------------------------------- -------- 19.9/25.7 MB 1.9 MB/s eta 0:00:04\n",
      "   ------------------------------- -------- 20.2/25.7 MB 1.9 MB/s eta 0:00:03\n",
      "   -------------------------------- ------- 20.7/25.7 MB 1.9 MB/s eta 0:00:03\n",
      "   --------------------------------- ------ 21.2/25.7 MB 1.9 MB/s eta 0:00:03\n",
      "   --------------------------------- ------ 21.8/25.7 MB 1.9 MB/s eta 0:00:03\n",
      "   ---------------------------------- ----- 22.3/25.7 MB 1.9 MB/s eta 0:00:02\n",
      "   ----------------------------------- ---- 22.8/25.7 MB 1.9 MB/s eta 0:00:02\n",
      "   ----------------------------------- ---- 23.1/25.7 MB 1.9 MB/s eta 0:00:02\n",
      "   ------------------------------------ --- 23.6/25.7 MB 2.0 MB/s eta 0:00:02\n",
      "   ------------------------------------- -- 24.1/25.7 MB 2.0 MB/s eta 0:00:01\n",
      "   -------------------------------------- - 24.6/25.7 MB 2.0 MB/s eta 0:00:01\n",
      "   ---------------------------------------  25.2/25.7 MB 2.0 MB/s eta 0:00:01\n",
      "   ---------------------------------------  25.4/25.7 MB 2.0 MB/s eta 0:00:01\n",
      "   ---------------------------------------- 25.7/25.7 MB 2.0 MB/s eta 0:00:00\n",
      "Installing collected packages: pyarrow\n",
      "Successfully installed pyarrow-20.0.0\n",
      "Note: you may need to restart the kernel to use updated packages.\n"
     ]
    },
    {
     "name": "stderr",
     "output_type": "stream",
     "text": [
      "\n",
      "[notice] A new release of pip is available: 25.0.1 -> 25.1.1\n",
      "[notice] To update, run: python.exe -m pip install --upgrade pip\n"
     ]
    }
   ],
   "execution_count": 2
  },
  {
   "metadata": {},
   "cell_type": "code",
   "outputs": [],
   "execution_count": null,
   "source": "",
   "id": "c2af554484295160"
  },
  {
   "metadata": {
    "ExecuteTime": {
     "end_time": "2025-05-10T09:45:24.476099Z",
     "start_time": "2025-05-10T09:45:24.060834Z"
    }
   },
   "cell_type": "code",
   "source": [
    "import pandas as pd\n",
    "\n",
    "# 1. ingest\n",
    "acc   = pd.read_parquet('accessibility_ebike.parquet')   # origin–station level\n",
    "cbs   = pd.read_csv('cbs_buurt.csv', usecols=['bu_code','a_inw'])\n",
    "curve = pd.read_csv('willingness_ebike.csv')             # columns: time_band, p_ebike"
   ],
   "id": "c3bee31ca5343364",
   "outputs": [
    {
     "ename": "FileNotFoundError",
     "evalue": "[Errno 2] No such file or directory: 'accessibility_ebike.parquet'",
     "output_type": "error",
     "traceback": [
      "\u001B[1;31m---------------------------------------------------------------------------\u001B[0m",
      "\u001B[1;31mFileNotFoundError\u001B[0m                         Traceback (most recent call last)",
      "Cell \u001B[1;32mIn[3], line 4\u001B[0m\n\u001B[0;32m      1\u001B[0m \u001B[38;5;28;01mimport\u001B[39;00m\u001B[38;5;250m \u001B[39m\u001B[38;5;21;01mpandas\u001B[39;00m\u001B[38;5;250m \u001B[39m\u001B[38;5;28;01mas\u001B[39;00m\u001B[38;5;250m \u001B[39m\u001B[38;5;21;01mpd\u001B[39;00m\n\u001B[0;32m      3\u001B[0m \u001B[38;5;66;03m# 1. ingest\u001B[39;00m\n\u001B[1;32m----> 4\u001B[0m acc   \u001B[38;5;241m=\u001B[39m \u001B[43mpd\u001B[49m\u001B[38;5;241;43m.\u001B[39;49m\u001B[43mread_parquet\u001B[49m\u001B[43m(\u001B[49m\u001B[38;5;124;43m'\u001B[39;49m\u001B[38;5;124;43maccessibility_ebike.parquet\u001B[39;49m\u001B[38;5;124;43m'\u001B[39;49m\u001B[43m)\u001B[49m   \u001B[38;5;66;03m# origin–station level\u001B[39;00m\n\u001B[0;32m      5\u001B[0m cbs   \u001B[38;5;241m=\u001B[39m pd\u001B[38;5;241m.\u001B[39mread_csv(\u001B[38;5;124m'\u001B[39m\u001B[38;5;124mcbs_buurt.csv\u001B[39m\u001B[38;5;124m'\u001B[39m, usecols\u001B[38;5;241m=\u001B[39m[\u001B[38;5;124m'\u001B[39m\u001B[38;5;124mbu_code\u001B[39m\u001B[38;5;124m'\u001B[39m,\u001B[38;5;124m'\u001B[39m\u001B[38;5;124ma_inw\u001B[39m\u001B[38;5;124m'\u001B[39m])\n\u001B[0;32m      6\u001B[0m curve \u001B[38;5;241m=\u001B[39m pd\u001B[38;5;241m.\u001B[39mread_csv(\u001B[38;5;124m'\u001B[39m\u001B[38;5;124mwillingness_ebike.csv\u001B[39m\u001B[38;5;124m'\u001B[39m)             \u001B[38;5;66;03m# columns: time_band, p_ebike\u001B[39;00m\n",
      "File \u001B[1;32m~\\PycharmProjects\\1bm110_data_driven_AI\\.venv\\Lib\\site-packages\\pandas\\io\\parquet.py:667\u001B[0m, in \u001B[0;36mread_parquet\u001B[1;34m(path, engine, columns, storage_options, use_nullable_dtypes, dtype_backend, filesystem, filters, **kwargs)\u001B[0m\n\u001B[0;32m    664\u001B[0m     use_nullable_dtypes \u001B[38;5;241m=\u001B[39m \u001B[38;5;28;01mFalse\u001B[39;00m\n\u001B[0;32m    665\u001B[0m check_dtype_backend(dtype_backend)\n\u001B[1;32m--> 667\u001B[0m \u001B[38;5;28;01mreturn\u001B[39;00m \u001B[43mimpl\u001B[49m\u001B[38;5;241;43m.\u001B[39;49m\u001B[43mread\u001B[49m\u001B[43m(\u001B[49m\n\u001B[0;32m    668\u001B[0m \u001B[43m    \u001B[49m\u001B[43mpath\u001B[49m\u001B[43m,\u001B[49m\n\u001B[0;32m    669\u001B[0m \u001B[43m    \u001B[49m\u001B[43mcolumns\u001B[49m\u001B[38;5;241;43m=\u001B[39;49m\u001B[43mcolumns\u001B[49m\u001B[43m,\u001B[49m\n\u001B[0;32m    670\u001B[0m \u001B[43m    \u001B[49m\u001B[43mfilters\u001B[49m\u001B[38;5;241;43m=\u001B[39;49m\u001B[43mfilters\u001B[49m\u001B[43m,\u001B[49m\n\u001B[0;32m    671\u001B[0m \u001B[43m    \u001B[49m\u001B[43mstorage_options\u001B[49m\u001B[38;5;241;43m=\u001B[39;49m\u001B[43mstorage_options\u001B[49m\u001B[43m,\u001B[49m\n\u001B[0;32m    672\u001B[0m \u001B[43m    \u001B[49m\u001B[43muse_nullable_dtypes\u001B[49m\u001B[38;5;241;43m=\u001B[39;49m\u001B[43muse_nullable_dtypes\u001B[49m\u001B[43m,\u001B[49m\n\u001B[0;32m    673\u001B[0m \u001B[43m    \u001B[49m\u001B[43mdtype_backend\u001B[49m\u001B[38;5;241;43m=\u001B[39;49m\u001B[43mdtype_backend\u001B[49m\u001B[43m,\u001B[49m\n\u001B[0;32m    674\u001B[0m \u001B[43m    \u001B[49m\u001B[43mfilesystem\u001B[49m\u001B[38;5;241;43m=\u001B[39;49m\u001B[43mfilesystem\u001B[49m\u001B[43m,\u001B[49m\n\u001B[0;32m    675\u001B[0m \u001B[43m    \u001B[49m\u001B[38;5;241;43m*\u001B[39;49m\u001B[38;5;241;43m*\u001B[39;49m\u001B[43mkwargs\u001B[49m\u001B[43m,\u001B[49m\n\u001B[0;32m    676\u001B[0m \u001B[43m\u001B[49m\u001B[43m)\u001B[49m\n",
      "File \u001B[1;32m~\\PycharmProjects\\1bm110_data_driven_AI\\.venv\\Lib\\site-packages\\pandas\\io\\parquet.py:267\u001B[0m, in \u001B[0;36mPyArrowImpl.read\u001B[1;34m(self, path, columns, filters, use_nullable_dtypes, dtype_backend, storage_options, filesystem, **kwargs)\u001B[0m\n\u001B[0;32m    264\u001B[0m \u001B[38;5;28;01mif\u001B[39;00m manager \u001B[38;5;241m==\u001B[39m \u001B[38;5;124m\"\u001B[39m\u001B[38;5;124marray\u001B[39m\u001B[38;5;124m\"\u001B[39m:\n\u001B[0;32m    265\u001B[0m     to_pandas_kwargs[\u001B[38;5;124m\"\u001B[39m\u001B[38;5;124msplit_blocks\u001B[39m\u001B[38;5;124m\"\u001B[39m] \u001B[38;5;241m=\u001B[39m \u001B[38;5;28;01mTrue\u001B[39;00m  \u001B[38;5;66;03m# type: ignore[assignment]\u001B[39;00m\n\u001B[1;32m--> 267\u001B[0m path_or_handle, handles, filesystem \u001B[38;5;241m=\u001B[39m \u001B[43m_get_path_or_handle\u001B[49m\u001B[43m(\u001B[49m\n\u001B[0;32m    268\u001B[0m \u001B[43m    \u001B[49m\u001B[43mpath\u001B[49m\u001B[43m,\u001B[49m\n\u001B[0;32m    269\u001B[0m \u001B[43m    \u001B[49m\u001B[43mfilesystem\u001B[49m\u001B[43m,\u001B[49m\n\u001B[0;32m    270\u001B[0m \u001B[43m    \u001B[49m\u001B[43mstorage_options\u001B[49m\u001B[38;5;241;43m=\u001B[39;49m\u001B[43mstorage_options\u001B[49m\u001B[43m,\u001B[49m\n\u001B[0;32m    271\u001B[0m \u001B[43m    \u001B[49m\u001B[43mmode\u001B[49m\u001B[38;5;241;43m=\u001B[39;49m\u001B[38;5;124;43m\"\u001B[39;49m\u001B[38;5;124;43mrb\u001B[39;49m\u001B[38;5;124;43m\"\u001B[39;49m\u001B[43m,\u001B[49m\n\u001B[0;32m    272\u001B[0m \u001B[43m\u001B[49m\u001B[43m)\u001B[49m\n\u001B[0;32m    273\u001B[0m \u001B[38;5;28;01mtry\u001B[39;00m:\n\u001B[0;32m    274\u001B[0m     pa_table \u001B[38;5;241m=\u001B[39m \u001B[38;5;28mself\u001B[39m\u001B[38;5;241m.\u001B[39mapi\u001B[38;5;241m.\u001B[39mparquet\u001B[38;5;241m.\u001B[39mread_table(\n\u001B[0;32m    275\u001B[0m         path_or_handle,\n\u001B[0;32m    276\u001B[0m         columns\u001B[38;5;241m=\u001B[39mcolumns,\n\u001B[1;32m   (...)\u001B[0m\n\u001B[0;32m    279\u001B[0m         \u001B[38;5;241m*\u001B[39m\u001B[38;5;241m*\u001B[39mkwargs,\n\u001B[0;32m    280\u001B[0m     )\n",
      "File \u001B[1;32m~\\PycharmProjects\\1bm110_data_driven_AI\\.venv\\Lib\\site-packages\\pandas\\io\\parquet.py:140\u001B[0m, in \u001B[0;36m_get_path_or_handle\u001B[1;34m(path, fs, storage_options, mode, is_dir)\u001B[0m\n\u001B[0;32m    130\u001B[0m handles \u001B[38;5;241m=\u001B[39m \u001B[38;5;28;01mNone\u001B[39;00m\n\u001B[0;32m    131\u001B[0m \u001B[38;5;28;01mif\u001B[39;00m (\n\u001B[0;32m    132\u001B[0m     \u001B[38;5;129;01mnot\u001B[39;00m fs\n\u001B[0;32m    133\u001B[0m     \u001B[38;5;129;01mand\u001B[39;00m \u001B[38;5;129;01mnot\u001B[39;00m is_dir\n\u001B[1;32m   (...)\u001B[0m\n\u001B[0;32m    138\u001B[0m     \u001B[38;5;66;03m# fsspec resources can also point to directories\u001B[39;00m\n\u001B[0;32m    139\u001B[0m     \u001B[38;5;66;03m# this branch is used for example when reading from non-fsspec URLs\u001B[39;00m\n\u001B[1;32m--> 140\u001B[0m     handles \u001B[38;5;241m=\u001B[39m \u001B[43mget_handle\u001B[49m\u001B[43m(\u001B[49m\n\u001B[0;32m    141\u001B[0m \u001B[43m        \u001B[49m\u001B[43mpath_or_handle\u001B[49m\u001B[43m,\u001B[49m\u001B[43m \u001B[49m\u001B[43mmode\u001B[49m\u001B[43m,\u001B[49m\u001B[43m \u001B[49m\u001B[43mis_text\u001B[49m\u001B[38;5;241;43m=\u001B[39;49m\u001B[38;5;28;43;01mFalse\u001B[39;49;00m\u001B[43m,\u001B[49m\u001B[43m \u001B[49m\u001B[43mstorage_options\u001B[49m\u001B[38;5;241;43m=\u001B[39;49m\u001B[43mstorage_options\u001B[49m\n\u001B[0;32m    142\u001B[0m \u001B[43m    \u001B[49m\u001B[43m)\u001B[49m\n\u001B[0;32m    143\u001B[0m     fs \u001B[38;5;241m=\u001B[39m \u001B[38;5;28;01mNone\u001B[39;00m\n\u001B[0;32m    144\u001B[0m     path_or_handle \u001B[38;5;241m=\u001B[39m handles\u001B[38;5;241m.\u001B[39mhandle\n",
      "File \u001B[1;32m~\\PycharmProjects\\1bm110_data_driven_AI\\.venv\\Lib\\site-packages\\pandas\\io\\common.py:882\u001B[0m, in \u001B[0;36mget_handle\u001B[1;34m(path_or_buf, mode, encoding, compression, memory_map, is_text, errors, storage_options)\u001B[0m\n\u001B[0;32m    873\u001B[0m         handle \u001B[38;5;241m=\u001B[39m \u001B[38;5;28mopen\u001B[39m(\n\u001B[0;32m    874\u001B[0m             handle,\n\u001B[0;32m    875\u001B[0m             ioargs\u001B[38;5;241m.\u001B[39mmode,\n\u001B[1;32m   (...)\u001B[0m\n\u001B[0;32m    878\u001B[0m             newline\u001B[38;5;241m=\u001B[39m\u001B[38;5;124m\"\u001B[39m\u001B[38;5;124m\"\u001B[39m,\n\u001B[0;32m    879\u001B[0m         )\n\u001B[0;32m    880\u001B[0m     \u001B[38;5;28;01melse\u001B[39;00m:\n\u001B[0;32m    881\u001B[0m         \u001B[38;5;66;03m# Binary mode\u001B[39;00m\n\u001B[1;32m--> 882\u001B[0m         handle \u001B[38;5;241m=\u001B[39m \u001B[38;5;28;43mopen\u001B[39;49m\u001B[43m(\u001B[49m\u001B[43mhandle\u001B[49m\u001B[43m,\u001B[49m\u001B[43m \u001B[49m\u001B[43mioargs\u001B[49m\u001B[38;5;241;43m.\u001B[39;49m\u001B[43mmode\u001B[49m\u001B[43m)\u001B[49m\n\u001B[0;32m    883\u001B[0m     handles\u001B[38;5;241m.\u001B[39mappend(handle)\n\u001B[0;32m    885\u001B[0m \u001B[38;5;66;03m# Convert BytesIO or file objects passed with an encoding\u001B[39;00m\n",
      "\u001B[1;31mFileNotFoundError\u001B[0m: [Errno 2] No such file or directory: 'accessibility_ebike.parquet'"
     ]
    }
   ],
   "execution_count": 3
  }
 ],
 "metadata": {
  "kernelspec": {
   "display_name": "Python 3",
   "language": "python",
   "name": "python3"
  },
  "language_info": {
   "codemirror_mode": {
    "name": "ipython",
    "version": 2
   },
   "file_extension": ".py",
   "mimetype": "text/x-python",
   "name": "python",
   "nbconvert_exporter": "python",
   "pygments_lexer": "ipython2",
   "version": "2.7.6"
  }
 },
 "nbformat": 4,
 "nbformat_minor": 5
}
